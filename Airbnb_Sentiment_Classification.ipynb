{
  "cells": [
    {
      "cell_type": "markdown",
      "metadata": {
        "id": "fdzffBeF3bLu"
      },
      "source": [
        "# 💬👍👎 **Airbnb Listings Sentiment Classification**"
      ]
    },
    {
      "cell_type": "code",
      "execution_count": 2,
      "metadata": {
        "id": "QHRCpgDyYwkI"
      },
      "outputs": [],
      "source": [
        "import pandas as pd\n",
        "import matplotlib.pyplot as plt\n",
        "import seaborn as sns\n",
        "import numpy as np"
      ]
    },
    {
      "cell_type": "markdown",
      "metadata": {
        "id": "Xvewd9JV3x71"
      },
      "source": [
        "## **Load the dataset** 🗂"
      ]
    },
    {
      "cell_type": "code",
      "execution_count": 3,
      "metadata": {
        "colab": {
          "base_uri": "https://localhost:8080/"
        },
        "id": "Qug8zw432wCZ",
        "outputId": "33187f6e-3ded-4b32-e956-b82266a8c48b"
      },
      "outputs": [
        {
          "output_type": "stream",
          "name": "stdout",
          "text": [
            "Drive already mounted at /content/drive; to attempt to forcibly remount, call drive.mount(\"/content/drive\", force_remount=True).\n"
          ]
        }
      ],
      "source": [
        "from google.colab import drive\n",
        "drive.mount('/content/drive')\n",
        "PATH = '/content/drive/My Drive/Datasets/data'"
      ]
    },
    {
      "cell_type": "markdown",
      "metadata": {
        "id": "0WWyRQ_p4gw-"
      },
      "source": [
        "## **Question 1: Study Over Time** 🤗"
      ]
    },
    {
      "cell_type": "markdown",
      "metadata": {
        "id": "bIXjVrIu5GjB"
      },
      "source": [
        "### **Data Pre-processing 💽**"
      ]
    },
    {
      "cell_type": "markdown",
      "source": [
        "📝 We decided to use data only from the last month of each year (April 2019 and September 2023) because it already contained all the data from the previous months. This allowed us to include all necessary information without redundancy, making our analysis more efficient."
      ],
      "metadata": {
        "id": "f_yTX7UhlWX1"
      }
    },
    {
      "cell_type": "markdown",
      "metadata": {
        "id": "81RZe35eX3Zg"
      },
      "source": [
        "#### **2019**"
      ]
    },
    {
      "cell_type": "code",
      "execution_count": 4,
      "metadata": {
        "colab": {
          "base_uri": "https://localhost:8080/",
          "height": 204
        },
        "id": "376u914vX4ZX",
        "outputId": "d1570eae-8a77-4a04-9442-20a55bc920d2"
      },
      "outputs": [
        {
          "output_type": "execute_result",
          "data": {
            "text/plain": [
              "   listing_id                                           comments  \\\n",
              "0       10595  The apartment was wonderful, fully equiped, be...   \n",
              "1       10595  Emmanouil was an excellent host. He provided u...   \n",
              "2       10595  Manos is a very good host, he is kind and help...   \n",
              "3       10595  Our stay in Emmanouil home was comfortable, qu...   \n",
              "4       10595  Fantastic accommodation very well located to v...   \n",
              "\n",
              "  neighbourhood_cleansed  \n",
              "0            ΑΜΠΕΛΟΚΗΠΟΙ  \n",
              "1            ΑΜΠΕΛΟΚΗΠΟΙ  \n",
              "2            ΑΜΠΕΛΟΚΗΠΟΙ  \n",
              "3            ΑΜΠΕΛΟΚΗΠΟΙ  \n",
              "4            ΑΜΠΕΛΟΚΗΠΟΙ  "
            ],
            "text/html": [
              "\n",
              "  <div id=\"df-0d464935-fd5a-4883-a2dc-f9cefd6609bf\" class=\"colab-df-container\">\n",
              "    <div>\n",
              "<style scoped>\n",
              "    .dataframe tbody tr th:only-of-type {\n",
              "        vertical-align: middle;\n",
              "    }\n",
              "\n",
              "    .dataframe tbody tr th {\n",
              "        vertical-align: top;\n",
              "    }\n",
              "\n",
              "    .dataframe thead th {\n",
              "        text-align: right;\n",
              "    }\n",
              "</style>\n",
              "<table border=\"1\" class=\"dataframe\">\n",
              "  <thead>\n",
              "    <tr style=\"text-align: right;\">\n",
              "      <th></th>\n",
              "      <th>listing_id</th>\n",
              "      <th>comments</th>\n",
              "      <th>neighbourhood_cleansed</th>\n",
              "    </tr>\n",
              "  </thead>\n",
              "  <tbody>\n",
              "    <tr>\n",
              "      <th>0</th>\n",
              "      <td>10595</td>\n",
              "      <td>The apartment was wonderful, fully equiped, be...</td>\n",
              "      <td>ΑΜΠΕΛΟΚΗΠΟΙ</td>\n",
              "    </tr>\n",
              "    <tr>\n",
              "      <th>1</th>\n",
              "      <td>10595</td>\n",
              "      <td>Emmanouil was an excellent host. He provided u...</td>\n",
              "      <td>ΑΜΠΕΛΟΚΗΠΟΙ</td>\n",
              "    </tr>\n",
              "    <tr>\n",
              "      <th>2</th>\n",
              "      <td>10595</td>\n",
              "      <td>Manos is a very good host, he is kind and help...</td>\n",
              "      <td>ΑΜΠΕΛΟΚΗΠΟΙ</td>\n",
              "    </tr>\n",
              "    <tr>\n",
              "      <th>3</th>\n",
              "      <td>10595</td>\n",
              "      <td>Our stay in Emmanouil home was comfortable, qu...</td>\n",
              "      <td>ΑΜΠΕΛΟΚΗΠΟΙ</td>\n",
              "    </tr>\n",
              "    <tr>\n",
              "      <th>4</th>\n",
              "      <td>10595</td>\n",
              "      <td>Fantastic accommodation very well located to v...</td>\n",
              "      <td>ΑΜΠΕΛΟΚΗΠΟΙ</td>\n",
              "    </tr>\n",
              "  </tbody>\n",
              "</table>\n",
              "</div>\n",
              "    <div class=\"colab-df-buttons\">\n",
              "\n",
              "  <div class=\"colab-df-container\">\n",
              "    <button class=\"colab-df-convert\" onclick=\"convertToInteractive('df-0d464935-fd5a-4883-a2dc-f9cefd6609bf')\"\n",
              "            title=\"Convert this dataframe to an interactive table.\"\n",
              "            style=\"display:none;\">\n",
              "\n",
              "  <svg xmlns=\"http://www.w3.org/2000/svg\" height=\"24px\" viewBox=\"0 -960 960 960\">\n",
              "    <path d=\"M120-120v-720h720v720H120Zm60-500h600v-160H180v160Zm220 220h160v-160H400v160Zm0 220h160v-160H400v160ZM180-400h160v-160H180v160Zm440 0h160v-160H620v160ZM180-180h160v-160H180v160Zm440 0h160v-160H620v160Z\"/>\n",
              "  </svg>\n",
              "    </button>\n",
              "\n",
              "  <style>\n",
              "    .colab-df-container {\n",
              "      display:flex;\n",
              "      gap: 12px;\n",
              "    }\n",
              "\n",
              "    .colab-df-convert {\n",
              "      background-color: #E8F0FE;\n",
              "      border: none;\n",
              "      border-radius: 50%;\n",
              "      cursor: pointer;\n",
              "      display: none;\n",
              "      fill: #1967D2;\n",
              "      height: 32px;\n",
              "      padding: 0 0 0 0;\n",
              "      width: 32px;\n",
              "    }\n",
              "\n",
              "    .colab-df-convert:hover {\n",
              "      background-color: #E2EBFA;\n",
              "      box-shadow: 0px 1px 2px rgba(60, 64, 67, 0.3), 0px 1px 3px 1px rgba(60, 64, 67, 0.15);\n",
              "      fill: #174EA6;\n",
              "    }\n",
              "\n",
              "    .colab-df-buttons div {\n",
              "      margin-bottom: 4px;\n",
              "    }\n",
              "\n",
              "    [theme=dark] .colab-df-convert {\n",
              "      background-color: #3B4455;\n",
              "      fill: #D2E3FC;\n",
              "    }\n",
              "\n",
              "    [theme=dark] .colab-df-convert:hover {\n",
              "      background-color: #434B5C;\n",
              "      box-shadow: 0px 1px 3px 1px rgba(0, 0, 0, 0.15);\n",
              "      filter: drop-shadow(0px 1px 2px rgba(0, 0, 0, 0.3));\n",
              "      fill: #FFFFFF;\n",
              "    }\n",
              "  </style>\n",
              "\n",
              "    <script>\n",
              "      const buttonEl =\n",
              "        document.querySelector('#df-0d464935-fd5a-4883-a2dc-f9cefd6609bf button.colab-df-convert');\n",
              "      buttonEl.style.display =\n",
              "        google.colab.kernel.accessAllowed ? 'block' : 'none';\n",
              "\n",
              "      async function convertToInteractive(key) {\n",
              "        const element = document.querySelector('#df-0d464935-fd5a-4883-a2dc-f9cefd6609bf');\n",
              "        const dataTable =\n",
              "          await google.colab.kernel.invokeFunction('convertToInteractive',\n",
              "                                                    [key], {});\n",
              "        if (!dataTable) return;\n",
              "\n",
              "        const docLinkHtml = 'Like what you see? Visit the ' +\n",
              "          '<a target=\"_blank\" href=https://colab.research.google.com/notebooks/data_table.ipynb>data table notebook</a>'\n",
              "          + ' to learn more about interactive tables.';\n",
              "        element.innerHTML = '';\n",
              "        dataTable['output_type'] = 'display_data';\n",
              "        await google.colab.output.renderOutput(dataTable, element);\n",
              "        const docLink = document.createElement('div');\n",
              "        docLink.innerHTML = docLinkHtml;\n",
              "        element.appendChild(docLink);\n",
              "      }\n",
              "    </script>\n",
              "  </div>\n",
              "\n",
              "\n",
              "    <div id=\"df-a41bb176-e807-4c73-a7b2-579c79d1f346\">\n",
              "      <button class=\"colab-df-quickchart\" onclick=\"quickchart('df-a41bb176-e807-4c73-a7b2-579c79d1f346')\"\n",
              "                title=\"Suggest charts\"\n",
              "                style=\"display:none;\">\n",
              "\n",
              "<svg xmlns=\"http://www.w3.org/2000/svg\" height=\"24px\"viewBox=\"0 0 24 24\"\n",
              "     width=\"24px\">\n",
              "    <g>\n",
              "        <path d=\"M19 3H5c-1.1 0-2 .9-2 2v14c0 1.1.9 2 2 2h14c1.1 0 2-.9 2-2V5c0-1.1-.9-2-2-2zM9 17H7v-7h2v7zm4 0h-2V7h2v10zm4 0h-2v-4h2v4z\"/>\n",
              "    </g>\n",
              "</svg>\n",
              "      </button>\n",
              "\n",
              "<style>\n",
              "  .colab-df-quickchart {\n",
              "      --bg-color: #E8F0FE;\n",
              "      --fill-color: #1967D2;\n",
              "      --hover-bg-color: #E2EBFA;\n",
              "      --hover-fill-color: #174EA6;\n",
              "      --disabled-fill-color: #AAA;\n",
              "      --disabled-bg-color: #DDD;\n",
              "  }\n",
              "\n",
              "  [theme=dark] .colab-df-quickchart {\n",
              "      --bg-color: #3B4455;\n",
              "      --fill-color: #D2E3FC;\n",
              "      --hover-bg-color: #434B5C;\n",
              "      --hover-fill-color: #FFFFFF;\n",
              "      --disabled-bg-color: #3B4455;\n",
              "      --disabled-fill-color: #666;\n",
              "  }\n",
              "\n",
              "  .colab-df-quickchart {\n",
              "    background-color: var(--bg-color);\n",
              "    border: none;\n",
              "    border-radius: 50%;\n",
              "    cursor: pointer;\n",
              "    display: none;\n",
              "    fill: var(--fill-color);\n",
              "    height: 32px;\n",
              "    padding: 0;\n",
              "    width: 32px;\n",
              "  }\n",
              "\n",
              "  .colab-df-quickchart:hover {\n",
              "    background-color: var(--hover-bg-color);\n",
              "    box-shadow: 0 1px 2px rgba(60, 64, 67, 0.3), 0 1px 3px 1px rgba(60, 64, 67, 0.15);\n",
              "    fill: var(--button-hover-fill-color);\n",
              "  }\n",
              "\n",
              "  .colab-df-quickchart-complete:disabled,\n",
              "  .colab-df-quickchart-complete:disabled:hover {\n",
              "    background-color: var(--disabled-bg-color);\n",
              "    fill: var(--disabled-fill-color);\n",
              "    box-shadow: none;\n",
              "  }\n",
              "\n",
              "  .colab-df-spinner {\n",
              "    border: 2px solid var(--fill-color);\n",
              "    border-color: transparent;\n",
              "    border-bottom-color: var(--fill-color);\n",
              "    animation:\n",
              "      spin 1s steps(1) infinite;\n",
              "  }\n",
              "\n",
              "  @keyframes spin {\n",
              "    0% {\n",
              "      border-color: transparent;\n",
              "      border-bottom-color: var(--fill-color);\n",
              "      border-left-color: var(--fill-color);\n",
              "    }\n",
              "    20% {\n",
              "      border-color: transparent;\n",
              "      border-left-color: var(--fill-color);\n",
              "      border-top-color: var(--fill-color);\n",
              "    }\n",
              "    30% {\n",
              "      border-color: transparent;\n",
              "      border-left-color: var(--fill-color);\n",
              "      border-top-color: var(--fill-color);\n",
              "      border-right-color: var(--fill-color);\n",
              "    }\n",
              "    40% {\n",
              "      border-color: transparent;\n",
              "      border-right-color: var(--fill-color);\n",
              "      border-top-color: var(--fill-color);\n",
              "    }\n",
              "    60% {\n",
              "      border-color: transparent;\n",
              "      border-right-color: var(--fill-color);\n",
              "    }\n",
              "    80% {\n",
              "      border-color: transparent;\n",
              "      border-right-color: var(--fill-color);\n",
              "      border-bottom-color: var(--fill-color);\n",
              "    }\n",
              "    90% {\n",
              "      border-color: transparent;\n",
              "      border-bottom-color: var(--fill-color);\n",
              "    }\n",
              "  }\n",
              "</style>\n",
              "\n",
              "      <script>\n",
              "        async function quickchart(key) {\n",
              "          const quickchartButtonEl =\n",
              "            document.querySelector('#' + key + ' button');\n",
              "          quickchartButtonEl.disabled = true;  // To prevent multiple clicks.\n",
              "          quickchartButtonEl.classList.add('colab-df-spinner');\n",
              "          try {\n",
              "            const charts = await google.colab.kernel.invokeFunction(\n",
              "                'suggestCharts', [key], {});\n",
              "          } catch (error) {\n",
              "            console.error('Error during call to suggestCharts:', error);\n",
              "          }\n",
              "          quickchartButtonEl.classList.remove('colab-df-spinner');\n",
              "          quickchartButtonEl.classList.add('colab-df-quickchart-complete');\n",
              "        }\n",
              "        (() => {\n",
              "          let quickchartButtonEl =\n",
              "            document.querySelector('#df-a41bb176-e807-4c73-a7b2-579c79d1f346 button');\n",
              "          quickchartButtonEl.style.display =\n",
              "            google.colab.kernel.accessAllowed ? 'block' : 'none';\n",
              "        })();\n",
              "      </script>\n",
              "    </div>\n",
              "\n",
              "    </div>\n",
              "  </div>\n"
            ],
            "application/vnd.google.colaboratory.intrinsic+json": {
              "type": "dataframe",
              "summary": "{\n  \"name\": \"# combined_df_2019\",\n  \"rows\": 5,\n  \"fields\": [\n    {\n      \"column\": \"listing_id\",\n      \"properties\": {\n        \"dtype\": \"number\",\n        \"std\": 0,\n        \"min\": 10595,\n        \"max\": 10595,\n        \"num_unique_values\": 1,\n        \"samples\": [\n          10595\n        ],\n        \"semantic_type\": \"\",\n        \"description\": \"\"\n      }\n    },\n    {\n      \"column\": \"comments\",\n      \"properties\": {\n        \"dtype\": \"string\",\n        \"num_unique_values\": 5,\n        \"samples\": [\n          \"Emmanouil was an excellent host. He provided us with everything we need to make ourselves feel right at home. He gave us tips and directions to our destinations. Even prior to our trip, we kept in close contact and he gave us specific and easy instructions on how to get to his place. The place was spacious and comfortable. Everything was so neat and organized and it was always a great place to come back to after an adventurous day in Athens. Transportation was easily accessible and the place was located in a quiet neighborhood. Our stay was an amazing experience. We wouldn't hesitate to stay there again or recommend it to friends.\"\n        ],\n        \"semantic_type\": \"\",\n        \"description\": \"\"\n      }\n    },\n    {\n      \"column\": \"neighbourhood_cleansed\",\n      \"properties\": {\n        \"dtype\": \"category\",\n        \"num_unique_values\": 1,\n        \"samples\": [\n          \"\\u0391\\u039c\\u03a0\\u0395\\u039b\\u039f\\u039a\\u0397\\u03a0\\u039f\\u0399\"\n        ],\n        \"semantic_type\": \"\",\n        \"description\": \"\"\n      }\n    }\n  ]\n}"
            }
          },
          "metadata": {},
          "execution_count": 4
        }
      ],
      "source": [
        "# Paths to the CSV files for each month\n",
        "review_paths = {\n",
        "    'April': '/content/drive/My Drive/Datasets/data/2019/april/reviews.csv',\n",
        "    # 'February': '/content/drive/My Drive/Datasets/data/2019/febrouary/reviews.csv',\n",
        "    # 'March':  '/content/drive/My Drive/Datasets/data/2019/march/reviews.csv'\n",
        "}\n",
        "\n",
        "neighbourhood_paths = {\n",
        "    'April': '/content/drive/My Drive/Datasets/data/2019/april/listings.csv',\n",
        "    # 'February': '/content/drive/My Drive/Datasets/data/2019/febrouary/listings.csv',\n",
        "    # 'March':  '/content/drive/My Drive/Datasets/data/2019/march/listings.csv'\n",
        "}\n",
        "\n",
        "merged_dataframes = []\n",
        "\n",
        "for month in review_paths.keys():\n",
        "    # Get 'listing_id' and 'comments' columns\n",
        "    review_df = pd.read_csv(review_paths[month], usecols=['listing_id', 'comments'])\n",
        "\n",
        "    # Get 'neighbourhood_cleansed' and 'id' columns\n",
        "    neighbourhood_df = pd.read_csv(neighbourhood_paths[month], usecols=['neighbourhood_cleansed', 'id'])\n",
        "\n",
        "    # Merge the review and neighbourhood dataframes on 'listing_id' and 'id'\n",
        "    merged_df = pd.merge(review_df, neighbourhood_df, left_on='listing_id', right_on='id')\n",
        "\n",
        "    # Append to the list of merged dataframes\n",
        "    merged_dataframes.append(merged_df)\n",
        "\n",
        "# Concatenate the merged dataframes\n",
        "combined_df_2019 = pd.concat(merged_dataframes, ignore_index=True)\n",
        "\n",
        "# Drop 'id' column\n",
        "combined_df_2019 = combined_df_2019.drop(columns=['id'])\n",
        "\n",
        "# Remove rows where 'comments' column is empty\n",
        "combined_df_2019 = combined_df_2019.dropna(subset=['comments'])\n",
        "\n",
        "# Reset the index after filtering\n",
        "combined_df_2019 = combined_df_2019.reset_index(drop=True)\n",
        "\n",
        "# Display the resulting dataframe\n",
        "combined_df_2019.head()\n",
        "\n",
        "# Save the final dataframe to a CSV file\n",
        "# combined_df_2019.to_csv('/content/drive/My Drive/Datasets/data/2019/english_reviews.csv', index=False)"
      ]
    },
    {
      "cell_type": "markdown",
      "metadata": {
        "id": "8aNT7l3zckX7"
      },
      "source": [
        "#### **2023**"
      ]
    },
    {
      "cell_type": "code",
      "execution_count": 5,
      "metadata": {
        "id": "ngF26qnMcmwW",
        "colab": {
          "base_uri": "https://localhost:8080/",
          "height": 204
        },
        "outputId": "f2b1aa58-2b98-4d41-a2b8-409ffc2b94dc"
      },
      "outputs": [
        {
          "output_type": "execute_result",
          "data": {
            "text/plain": [
              "   listing_id                                           comments  \\\n",
              "0       10595  The apartment was wonderful, fully equiped, be...   \n",
              "1       10595  Emmanouil was an excellent host. He provided u...   \n",
              "2      695173  My wife, my daughter and I spent five days of ...   \n",
              "3      695173  We had a great stay at Soula's apartment. We l...   \n",
              "4      695173  Beautiful, clean apartment with plenty of spac...   \n",
              "\n",
              "  neighbourhood_cleansed  \n",
              "0            ΑΜΠΕΛΟΚΗΠΟΙ  \n",
              "1            ΑΜΠΕΛΟΚΗΠΟΙ  \n",
              "2            ΝΕΟΣ ΚΟΣΜΟΣ  \n",
              "3            ΝΕΟΣ ΚΟΣΜΟΣ  \n",
              "4            ΝΕΟΣ ΚΟΣΜΟΣ  "
            ],
            "text/html": [
              "\n",
              "  <div id=\"df-49ccdb65-9791-4649-a521-6be6673528ca\" class=\"colab-df-container\">\n",
              "    <div>\n",
              "<style scoped>\n",
              "    .dataframe tbody tr th:only-of-type {\n",
              "        vertical-align: middle;\n",
              "    }\n",
              "\n",
              "    .dataframe tbody tr th {\n",
              "        vertical-align: top;\n",
              "    }\n",
              "\n",
              "    .dataframe thead th {\n",
              "        text-align: right;\n",
              "    }\n",
              "</style>\n",
              "<table border=\"1\" class=\"dataframe\">\n",
              "  <thead>\n",
              "    <tr style=\"text-align: right;\">\n",
              "      <th></th>\n",
              "      <th>listing_id</th>\n",
              "      <th>comments</th>\n",
              "      <th>neighbourhood_cleansed</th>\n",
              "    </tr>\n",
              "  </thead>\n",
              "  <tbody>\n",
              "    <tr>\n",
              "      <th>0</th>\n",
              "      <td>10595</td>\n",
              "      <td>The apartment was wonderful, fully equiped, be...</td>\n",
              "      <td>ΑΜΠΕΛΟΚΗΠΟΙ</td>\n",
              "    </tr>\n",
              "    <tr>\n",
              "      <th>1</th>\n",
              "      <td>10595</td>\n",
              "      <td>Emmanouil was an excellent host. He provided u...</td>\n",
              "      <td>ΑΜΠΕΛΟΚΗΠΟΙ</td>\n",
              "    </tr>\n",
              "    <tr>\n",
              "      <th>2</th>\n",
              "      <td>695173</td>\n",
              "      <td>My wife, my daughter and I spent five days of ...</td>\n",
              "      <td>ΝΕΟΣ ΚΟΣΜΟΣ</td>\n",
              "    </tr>\n",
              "    <tr>\n",
              "      <th>3</th>\n",
              "      <td>695173</td>\n",
              "      <td>We had a great stay at Soula's apartment. We l...</td>\n",
              "      <td>ΝΕΟΣ ΚΟΣΜΟΣ</td>\n",
              "    </tr>\n",
              "    <tr>\n",
              "      <th>4</th>\n",
              "      <td>695173</td>\n",
              "      <td>Beautiful, clean apartment with plenty of spac...</td>\n",
              "      <td>ΝΕΟΣ ΚΟΣΜΟΣ</td>\n",
              "    </tr>\n",
              "  </tbody>\n",
              "</table>\n",
              "</div>\n",
              "    <div class=\"colab-df-buttons\">\n",
              "\n",
              "  <div class=\"colab-df-container\">\n",
              "    <button class=\"colab-df-convert\" onclick=\"convertToInteractive('df-49ccdb65-9791-4649-a521-6be6673528ca')\"\n",
              "            title=\"Convert this dataframe to an interactive table.\"\n",
              "            style=\"display:none;\">\n",
              "\n",
              "  <svg xmlns=\"http://www.w3.org/2000/svg\" height=\"24px\" viewBox=\"0 -960 960 960\">\n",
              "    <path d=\"M120-120v-720h720v720H120Zm60-500h600v-160H180v160Zm220 220h160v-160H400v160Zm0 220h160v-160H400v160ZM180-400h160v-160H180v160Zm440 0h160v-160H620v160ZM180-180h160v-160H180v160Zm440 0h160v-160H620v160Z\"/>\n",
              "  </svg>\n",
              "    </button>\n",
              "\n",
              "  <style>\n",
              "    .colab-df-container {\n",
              "      display:flex;\n",
              "      gap: 12px;\n",
              "    }\n",
              "\n",
              "    .colab-df-convert {\n",
              "      background-color: #E8F0FE;\n",
              "      border: none;\n",
              "      border-radius: 50%;\n",
              "      cursor: pointer;\n",
              "      display: none;\n",
              "      fill: #1967D2;\n",
              "      height: 32px;\n",
              "      padding: 0 0 0 0;\n",
              "      width: 32px;\n",
              "    }\n",
              "\n",
              "    .colab-df-convert:hover {\n",
              "      background-color: #E2EBFA;\n",
              "      box-shadow: 0px 1px 2px rgba(60, 64, 67, 0.3), 0px 1px 3px 1px rgba(60, 64, 67, 0.15);\n",
              "      fill: #174EA6;\n",
              "    }\n",
              "\n",
              "    .colab-df-buttons div {\n",
              "      margin-bottom: 4px;\n",
              "    }\n",
              "\n",
              "    [theme=dark] .colab-df-convert {\n",
              "      background-color: #3B4455;\n",
              "      fill: #D2E3FC;\n",
              "    }\n",
              "\n",
              "    [theme=dark] .colab-df-convert:hover {\n",
              "      background-color: #434B5C;\n",
              "      box-shadow: 0px 1px 3px 1px rgba(0, 0, 0, 0.15);\n",
              "      filter: drop-shadow(0px 1px 2px rgba(0, 0, 0, 0.3));\n",
              "      fill: #FFFFFF;\n",
              "    }\n",
              "  </style>\n",
              "\n",
              "    <script>\n",
              "      const buttonEl =\n",
              "        document.querySelector('#df-49ccdb65-9791-4649-a521-6be6673528ca button.colab-df-convert');\n",
              "      buttonEl.style.display =\n",
              "        google.colab.kernel.accessAllowed ? 'block' : 'none';\n",
              "\n",
              "      async function convertToInteractive(key) {\n",
              "        const element = document.querySelector('#df-49ccdb65-9791-4649-a521-6be6673528ca');\n",
              "        const dataTable =\n",
              "          await google.colab.kernel.invokeFunction('convertToInteractive',\n",
              "                                                    [key], {});\n",
              "        if (!dataTable) return;\n",
              "\n",
              "        const docLinkHtml = 'Like what you see? Visit the ' +\n",
              "          '<a target=\"_blank\" href=https://colab.research.google.com/notebooks/data_table.ipynb>data table notebook</a>'\n",
              "          + ' to learn more about interactive tables.';\n",
              "        element.innerHTML = '';\n",
              "        dataTable['output_type'] = 'display_data';\n",
              "        await google.colab.output.renderOutput(dataTable, element);\n",
              "        const docLink = document.createElement('div');\n",
              "        docLink.innerHTML = docLinkHtml;\n",
              "        element.appendChild(docLink);\n",
              "      }\n",
              "    </script>\n",
              "  </div>\n",
              "\n",
              "\n",
              "    <div id=\"df-c42168f1-a3ff-456c-aaed-b5c9d619c02b\">\n",
              "      <button class=\"colab-df-quickchart\" onclick=\"quickchart('df-c42168f1-a3ff-456c-aaed-b5c9d619c02b')\"\n",
              "                title=\"Suggest charts\"\n",
              "                style=\"display:none;\">\n",
              "\n",
              "<svg xmlns=\"http://www.w3.org/2000/svg\" height=\"24px\"viewBox=\"0 0 24 24\"\n",
              "     width=\"24px\">\n",
              "    <g>\n",
              "        <path d=\"M19 3H5c-1.1 0-2 .9-2 2v14c0 1.1.9 2 2 2h14c1.1 0 2-.9 2-2V5c0-1.1-.9-2-2-2zM9 17H7v-7h2v7zm4 0h-2V7h2v10zm4 0h-2v-4h2v4z\"/>\n",
              "    </g>\n",
              "</svg>\n",
              "      </button>\n",
              "\n",
              "<style>\n",
              "  .colab-df-quickchart {\n",
              "      --bg-color: #E8F0FE;\n",
              "      --fill-color: #1967D2;\n",
              "      --hover-bg-color: #E2EBFA;\n",
              "      --hover-fill-color: #174EA6;\n",
              "      --disabled-fill-color: #AAA;\n",
              "      --disabled-bg-color: #DDD;\n",
              "  }\n",
              "\n",
              "  [theme=dark] .colab-df-quickchart {\n",
              "      --bg-color: #3B4455;\n",
              "      --fill-color: #D2E3FC;\n",
              "      --hover-bg-color: #434B5C;\n",
              "      --hover-fill-color: #FFFFFF;\n",
              "      --disabled-bg-color: #3B4455;\n",
              "      --disabled-fill-color: #666;\n",
              "  }\n",
              "\n",
              "  .colab-df-quickchart {\n",
              "    background-color: var(--bg-color);\n",
              "    border: none;\n",
              "    border-radius: 50%;\n",
              "    cursor: pointer;\n",
              "    display: none;\n",
              "    fill: var(--fill-color);\n",
              "    height: 32px;\n",
              "    padding: 0;\n",
              "    width: 32px;\n",
              "  }\n",
              "\n",
              "  .colab-df-quickchart:hover {\n",
              "    background-color: var(--hover-bg-color);\n",
              "    box-shadow: 0 1px 2px rgba(60, 64, 67, 0.3), 0 1px 3px 1px rgba(60, 64, 67, 0.15);\n",
              "    fill: var(--button-hover-fill-color);\n",
              "  }\n",
              "\n",
              "  .colab-df-quickchart-complete:disabled,\n",
              "  .colab-df-quickchart-complete:disabled:hover {\n",
              "    background-color: var(--disabled-bg-color);\n",
              "    fill: var(--disabled-fill-color);\n",
              "    box-shadow: none;\n",
              "  }\n",
              "\n",
              "  .colab-df-spinner {\n",
              "    border: 2px solid var(--fill-color);\n",
              "    border-color: transparent;\n",
              "    border-bottom-color: var(--fill-color);\n",
              "    animation:\n",
              "      spin 1s steps(1) infinite;\n",
              "  }\n",
              "\n",
              "  @keyframes spin {\n",
              "    0% {\n",
              "      border-color: transparent;\n",
              "      border-bottom-color: var(--fill-color);\n",
              "      border-left-color: var(--fill-color);\n",
              "    }\n",
              "    20% {\n",
              "      border-color: transparent;\n",
              "      border-left-color: var(--fill-color);\n",
              "      border-top-color: var(--fill-color);\n",
              "    }\n",
              "    30% {\n",
              "      border-color: transparent;\n",
              "      border-left-color: var(--fill-color);\n",
              "      border-top-color: var(--fill-color);\n",
              "      border-right-color: var(--fill-color);\n",
              "    }\n",
              "    40% {\n",
              "      border-color: transparent;\n",
              "      border-right-color: var(--fill-color);\n",
              "      border-top-color: var(--fill-color);\n",
              "    }\n",
              "    60% {\n",
              "      border-color: transparent;\n",
              "      border-right-color: var(--fill-color);\n",
              "    }\n",
              "    80% {\n",
              "      border-color: transparent;\n",
              "      border-right-color: var(--fill-color);\n",
              "      border-bottom-color: var(--fill-color);\n",
              "    }\n",
              "    90% {\n",
              "      border-color: transparent;\n",
              "      border-bottom-color: var(--fill-color);\n",
              "    }\n",
              "  }\n",
              "</style>\n",
              "\n",
              "      <script>\n",
              "        async function quickchart(key) {\n",
              "          const quickchartButtonEl =\n",
              "            document.querySelector('#' + key + ' button');\n",
              "          quickchartButtonEl.disabled = true;  // To prevent multiple clicks.\n",
              "          quickchartButtonEl.classList.add('colab-df-spinner');\n",
              "          try {\n",
              "            const charts = await google.colab.kernel.invokeFunction(\n",
              "                'suggestCharts', [key], {});\n",
              "          } catch (error) {\n",
              "            console.error('Error during call to suggestCharts:', error);\n",
              "          }\n",
              "          quickchartButtonEl.classList.remove('colab-df-spinner');\n",
              "          quickchartButtonEl.classList.add('colab-df-quickchart-complete');\n",
              "        }\n",
              "        (() => {\n",
              "          let quickchartButtonEl =\n",
              "            document.querySelector('#df-c42168f1-a3ff-456c-aaed-b5c9d619c02b button');\n",
              "          quickchartButtonEl.style.display =\n",
              "            google.colab.kernel.accessAllowed ? 'block' : 'none';\n",
              "        })();\n",
              "      </script>\n",
              "    </div>\n",
              "\n",
              "    </div>\n",
              "  </div>\n"
            ],
            "application/vnd.google.colaboratory.intrinsic+json": {
              "type": "dataframe",
              "summary": "{\n  \"name\": \"# combined_df_2023\",\n  \"rows\": 5,\n  \"fields\": [\n    {\n      \"column\": \"listing_id\",\n      \"properties\": {\n        \"dtype\": \"number\",\n        \"std\": 374958,\n        \"min\": 10595,\n        \"max\": 695173,\n        \"num_unique_values\": 2,\n        \"samples\": [\n          695173,\n          10595\n        ],\n        \"semantic_type\": \"\",\n        \"description\": \"\"\n      }\n    },\n    {\n      \"column\": \"comments\",\n      \"properties\": {\n        \"dtype\": \"string\",\n        \"num_unique_values\": 5,\n        \"samples\": [\n          \"Emmanouil was an excellent host. He provided us with everything we need to make ourselves feel right at home. He gave us tips and directions to our destinations. Even prior to our trip, we kept in close contact and he gave us specific and easy instructions on how to get to his place. The place was spacious and comfortable. Everything was so neat and organized and it was always a great place to come back to after an adventurous day in Athens. Transportation was easily accessible and the place was located in a quiet neighborhood. Our stay was an amazing experience. We wouldn't hesitate to stay there again or recommend it to friends.\",\n          \"Beautiful, clean apartment with plenty of space. Stayed here with my partner and we had a lovely time. Even though we booked last minute (Like 8pm the day of, and we arrived at midnight), Soula was incredibly kind and arranged for a driver to be waiting to pick us up. Fully stocked with cookware, incredibly comfy sofa, and nice and quiet in the evening. Perfect, thank you Soula! \"\n        ],\n        \"semantic_type\": \"\",\n        \"description\": \"\"\n      }\n    },\n    {\n      \"column\": \"neighbourhood_cleansed\",\n      \"properties\": {\n        \"dtype\": \"category\",\n        \"num_unique_values\": 2,\n        \"samples\": [\n          \"\\u039d\\u0395\\u039f\\u03a3 \\u039a\\u039f\\u03a3\\u039c\\u039f\\u03a3\",\n          \"\\u0391\\u039c\\u03a0\\u0395\\u039b\\u039f\\u039a\\u0397\\u03a0\\u039f\\u0399\"\n        ],\n        \"semantic_type\": \"\",\n        \"description\": \"\"\n      }\n    }\n  ]\n}"
            }
          },
          "metadata": {},
          "execution_count": 5
        }
      ],
      "source": [
        "# Paths to the CSV files for each month\n",
        "review_paths = {\n",
        "    # 'March': '/content/drive/My Drive/Datasets/data/2023/march/reviews.csv',\n",
        "    # 'June': '/content/drive/My Drive/Datasets/data/2023/june/reviews.csv',\n",
        "    'September':  '/content/drive/My Drive/Datasets/data/2023/september/reviews.csv'\n",
        "}\n",
        "\n",
        "neighbourhood_paths = {\n",
        "    # 'March': '/content/drive/My Drive/Datasets/data/2023/march/listings.csv',\n",
        "    # 'June': '/content/drive/My Drive/Datasets/data/2023/june/listings.csv',\n",
        "    'September': '/content/drive/My Drive/Datasets/data/2023/september/listings.csv'\n",
        "}\n",
        "\n",
        "merged_dataframes_2023 = []\n",
        "\n",
        "for month in review_paths.keys():\n",
        "    # Get 'listing_id' and 'comments' columns\n",
        "    review_df = pd.read_csv(review_paths[month], usecols=['listing_id', 'comments'])\n",
        "\n",
        "    # Get 'neighbourhood_cleansed' and 'id' columns\n",
        "    neighbourhood_df = pd.read_csv(neighbourhood_paths[month], usecols=['neighbourhood_cleansed', 'id'])\n",
        "\n",
        "    # Merge the review and neighbourhood dataframes on 'listing_id' and 'id'\n",
        "    merged_df = pd.merge(review_df, neighbourhood_df, left_on='listing_id', right_on='id')\n",
        "\n",
        "    # Append to the list of merged dataframes\n",
        "    merged_dataframes_2023.append(merged_df)\n",
        "\n",
        "# Concatenate the merged dataframes\n",
        "combined_df_2023 = pd.concat(merged_dataframes_2023, ignore_index=True)\n",
        "\n",
        "# Drop 'id' column\n",
        "combined_df_2023 = combined_df_2023.drop(columns=['id'])\n",
        "\n",
        "# Remove rows where 'comments' column is empty\n",
        "combined_df_2023 = combined_df_2023.dropna(subset=['comments'])\n",
        "\n",
        "# Reset the index after filtering\n",
        "combined_df_2023 = combined_df_2023.reset_index(drop=True)\n",
        "\n",
        "# Display the resulting dataframe\n",
        "combined_df_2023.head()\n",
        "\n",
        "# Save the final dataframe to a CSV file\n",
        "# combined_df_2023.to_csv('/content/drive/My Drive/Datasets/data/2023/english_reviews.csv', index=False)"
      ]
    },
    {
      "cell_type": "markdown",
      "source": [
        "Take a random sample of 2200 data."
      ],
      "metadata": {
        "id": "9_dacMVZX4g3"
      }
    },
    {
      "cell_type": "code",
      "source": [
        "# Display the size of the resulting dataframe\n",
        "print(\"Shape of combined_df_2019:\", combined_df_2019.shape)\n",
        "# Display the size of the resulting dataframe\n",
        "print(\"Shape of combined_df_2023:\", combined_df_2023.shape)\n",
        "\n",
        "# Randomly sample rows from combined_df_2023\n",
        "sampled_df_2019 = combined_df_2019.sample(n=10000, random_state=42)\n",
        "sampled_df_2023 = combined_df_2023.sample(n=10000, random_state=42)\n",
        "# Display the resulting sampled dataframe\n",
        "print(sampled_df_2019.head())\n",
        "print(sampled_df_2023.head())"
      ],
      "metadata": {
        "colab": {
          "base_uri": "https://localhost:8080/"
        },
        "id": "Dhs7_aJmPQnm",
        "outputId": "363b711c-3940-4f36-e759-ad368872ee15"
      },
      "execution_count": 6,
      "outputs": [
        {
          "output_type": "stream",
          "name": "stdout",
          "text": [
            "Shape of combined_df_2019: (287300, 3)\n",
            "Shape of combined_df_2023: (560527, 3)\n",
            "        listing_id                                           comments  \\\n",
            "142698    15046716  A good location for visiting all the famous to...   \n",
            "250494    24362432  Great place, excellent location, they have bot...   \n",
            "200808    19472607  The apartment was great and in a very good loc...   \n",
            "106108    12079076  The hosts were very accommodating and helpful....   \n",
            "152442    16038153  Excellent little place to stay in Athens.\\nWal...   \n",
            "\n",
            "        neighbourhood_cleansed  \n",
            "142698  ΕΜΠΟΡΙΚΟ ΤΡΙΓΩΝΟ-ΠΛΑΚΑ  \n",
            "250494  ΕΜΠΟΡΙΚΟ ΤΡΙΓΩΝΟ-ΠΛΑΚΑ  \n",
            "200808             ΑΜΠΕΛΟΚΗΠΟΙ  \n",
            "106108                   ΓΚΑΖΙ  \n",
            "152442  ΕΜΠΟΡΙΚΟ ΤΡΙΓΩΝΟ-ΠΛΑΚΑ  \n",
            "        listing_id                                           comments  \\\n",
            "101694    13842245  Très bon séjour chez Lito, communication très ...   \n",
            "167859    19109115  The apartment was super clean, check in was ea...   \n",
            "327933    30052958  Fenia has been a great host. The apartment was...   \n",
            "102438    13843004                                καθαρό, είχε θόρυβο   \n",
            "181503    20010069  It was a great pleasure to stay with Flora. Sh...   \n",
            "\n",
            "        neighbourhood_cleansed  \n",
            "101694  ΕΜΠΟΡΙΚΟ ΤΡΙΓΩΝΟ-ΠΛΑΚΑ  \n",
            "167859               ΠΕΤΡΑΛΩΝΑ  \n",
            "327933                ΚΟΛΩΝΑΚΙ  \n",
            "102438             ΑΜΠΕΛΟΚΗΠΟΙ  \n",
            "181503               ΠΕΤΡΑΛΩΝΑ  \n"
          ]
        }
      ]
    },
    {
      "cell_type": "markdown",
      "metadata": {
        "id": "4Wss3NrXf4Vb"
      },
      "source": [
        "#### **Data Cleaning 🧹**"
      ]
    },
    {
      "cell_type": "markdown",
      "source": [
        "📝 We remove punctuation, convert all characters to lowercase, remove symbols such as hashtags, emoticons, emojis, links and stopwords from the dataset. We only do the pre-processing steps for english comments."
      ],
      "metadata": {
        "id": "0IUC7U65XILu"
      }
    },
    {
      "cell_type": "code",
      "execution_count": 7,
      "metadata": {
        "colab": {
          "base_uri": "https://localhost:8080/"
        },
        "id": "b7Ott_Y1gMIy",
        "outputId": "a40e2a49-3f9f-44f4-d9d7-ccb833b3cde9"
      },
      "outputs": [
        {
          "output_type": "stream",
          "name": "stderr",
          "text": [
            "[nltk_data] Downloading package stopwords to /root/nltk_data...\n",
            "[nltk_data]   Package stopwords is already up-to-date!\n"
          ]
        }
      ],
      "source": [
        "import re\n",
        "import nltk\n",
        "from nltk.corpus import stopwords\n",
        "\n",
        "# Ensure you download the stopwords if you haven't already\n",
        "nltk.download('stopwords')\n",
        "\n",
        "def clean_comments(comment):\n",
        "\n",
        "    # Remove hashtags\n",
        "    comment = re.sub(r'#\\w+', '', comment)\n",
        "\n",
        "    # Remove links\n",
        "    comment = re.sub(r'http\\S+|www\\S+|https\\S+', '', comment, flags=re.MULTILINE)\n",
        "\n",
        "    # Remove emojis and emoticons\n",
        "    emoji_pattern = re.compile(\n",
        "        \"[\"\n",
        "        u\"\\U0001F600-\\U0001F64F\"  # emoticons\n",
        "        u\"\\U0001F300-\\U0001F5FF\"  # symbols & pictographs\n",
        "        u\"\\U0001F680-\\U0001F6FF\"  # transport & map symbols\n",
        "        u\"\\U0001F1E0-\\U0001F1FF\"  # flags (iOS)\n",
        "        u\"\\U00002500-\\U00002BEF\"  # chinese char\n",
        "        u\"\\U00002702-\\U000027B0\"\n",
        "        u\"\\U00002702-\\U000027B0\"\n",
        "        u\"\\U000024C2-\\U0001F251\"\n",
        "        u\"\\U0001f926-\\U0001f937\"\n",
        "        u\"\\U00010000-\\U0010ffff\"\n",
        "        u\"\\u2640-\\u2642\"\n",
        "        u\"\\u2600-\\u2B55\"\n",
        "        u\"\\u200d\"\n",
        "        u\"\\u23cf\"\n",
        "        u\"\\u23e9\"\n",
        "        u\"\\u231a\"\n",
        "        u\"\\ufe0f\"  # dingbats\n",
        "        u\"\\u3030\"\n",
        "        \"]+\", flags=re.UNICODE)\n",
        "    comment = emoji_pattern.sub(r'', comment)\n",
        "\n",
        "    # Convert to lowercase\n",
        "    comment = comment.lower()\n",
        "\n",
        "    # Remove punctuation\n",
        "    comment = re.sub(r'[^\\w\\s]', '', comment)\n",
        "\n",
        "    # Split the text into words\n",
        "    # comment = word_tokenize(text)\n",
        "\n",
        "    # Remove stopwords\n",
        "    stop_words = set(stopwords.words('english'))\n",
        "    comment = ' '.join([word for word in comment.split() if word.lower() not in stop_words])\n",
        "\n",
        "    return comment"
      ]
    },
    {
      "cell_type": "code",
      "source": [
        "!pip install langdetect"
      ],
      "metadata": {
        "colab": {
          "base_uri": "https://localhost:8080/"
        },
        "id": "MtJ2AnZEXeUz",
        "outputId": "be79d934-5a13-429d-de56-eb36906b5091"
      },
      "execution_count": 8,
      "outputs": [
        {
          "output_type": "stream",
          "name": "stdout",
          "text": [
            "Requirement already satisfied: langdetect in /usr/local/lib/python3.12/dist-packages (1.0.9)\n",
            "Requirement already satisfied: six in /usr/local/lib/python3.12/dist-packages (from langdetect) (1.17.0)\n"
          ]
        }
      ]
    },
    {
      "cell_type": "code",
      "source": [
        "from langdetect import detect, DetectorFactory\n",
        "from langdetect.lang_detect_exception import LangDetectException\n",
        "\n",
        "# Ensure consistent results\n",
        "DetectorFactory.seed = 0\n",
        "\n",
        "# Function to detect language and filter only English comments\n",
        "def is_english(comment):\n",
        "    try:\n",
        "        return detect(comment) == 'en'\n",
        "    except LangDetectException:\n",
        "        return False"
      ],
      "metadata": {
        "id": "Kl3rnQi4XZSq"
      },
      "execution_count": 9,
      "outputs": []
    },
    {
      "cell_type": "markdown",
      "source": [
        "#### **2019**"
      ],
      "metadata": {
        "id": "MMlgTXfSFKVq"
      }
    },
    {
      "cell_type": "code",
      "execution_count": 10,
      "metadata": {
        "colab": {
          "base_uri": "https://localhost:8080/",
          "height": 221
        },
        "id": "V3-MySSVhYzy",
        "outputId": "04f4f222-d2a5-4df8-8148-f3b61f4b7212"
      },
      "outputs": [
        {
          "output_type": "stream",
          "name": "stdout",
          "text": [
            "(7675, 3)\n"
          ]
        },
        {
          "output_type": "execute_result",
          "data": {
            "text/plain": [
              "        listing_id                                           comments  \\\n",
              "101070    11614090  panos awesome host responsive start offered se...   \n",
              "95167     10898803  pictures lie spacious clean upscale condo hear...   \n",
              "209883    20091938  sofia responsive gentle flexiblea perfect host...   \n",
              "200421    19420005  marios fast responsive polite guest house need...   \n",
              "284072    30391533                            really nice place clean   \n",
              "\n",
              "        neighbourhood_cleansed  \n",
              "101070                  ΣΤΑΔΙΟ  \n",
              "95167                  ΖΑΠΠΕΙΟ  \n",
              "209883  ΕΜΠΟΡΙΚΟ ΤΡΙΓΩΝΟ-ΠΛΑΚΑ  \n",
              "200421  ΕΜΠΟΡΙΚΟ ΤΡΙΓΩΝΟ-ΠΛΑΚΑ  \n",
              "284072             ΝΕΟΣ ΚΟΣΜΟΣ  "
            ],
            "text/html": [
              "\n",
              "  <div id=\"df-7bc46280-8c09-47de-ad70-3baf9a4b57a0\" class=\"colab-df-container\">\n",
              "    <div>\n",
              "<style scoped>\n",
              "    .dataframe tbody tr th:only-of-type {\n",
              "        vertical-align: middle;\n",
              "    }\n",
              "\n",
              "    .dataframe tbody tr th {\n",
              "        vertical-align: top;\n",
              "    }\n",
              "\n",
              "    .dataframe thead th {\n",
              "        text-align: right;\n",
              "    }\n",
              "</style>\n",
              "<table border=\"1\" class=\"dataframe\">\n",
              "  <thead>\n",
              "    <tr style=\"text-align: right;\">\n",
              "      <th></th>\n",
              "      <th>listing_id</th>\n",
              "      <th>comments</th>\n",
              "      <th>neighbourhood_cleansed</th>\n",
              "    </tr>\n",
              "  </thead>\n",
              "  <tbody>\n",
              "    <tr>\n",
              "      <th>101070</th>\n",
              "      <td>11614090</td>\n",
              "      <td>panos awesome host responsive start offered se...</td>\n",
              "      <td>ΣΤΑΔΙΟ</td>\n",
              "    </tr>\n",
              "    <tr>\n",
              "      <th>95167</th>\n",
              "      <td>10898803</td>\n",
              "      <td>pictures lie spacious clean upscale condo hear...</td>\n",
              "      <td>ΖΑΠΠΕΙΟ</td>\n",
              "    </tr>\n",
              "    <tr>\n",
              "      <th>209883</th>\n",
              "      <td>20091938</td>\n",
              "      <td>sofia responsive gentle flexiblea perfect host...</td>\n",
              "      <td>ΕΜΠΟΡΙΚΟ ΤΡΙΓΩΝΟ-ΠΛΑΚΑ</td>\n",
              "    </tr>\n",
              "    <tr>\n",
              "      <th>200421</th>\n",
              "      <td>19420005</td>\n",
              "      <td>marios fast responsive polite guest house need...</td>\n",
              "      <td>ΕΜΠΟΡΙΚΟ ΤΡΙΓΩΝΟ-ΠΛΑΚΑ</td>\n",
              "    </tr>\n",
              "    <tr>\n",
              "      <th>284072</th>\n",
              "      <td>30391533</td>\n",
              "      <td>really nice place clean</td>\n",
              "      <td>ΝΕΟΣ ΚΟΣΜΟΣ</td>\n",
              "    </tr>\n",
              "  </tbody>\n",
              "</table>\n",
              "</div>\n",
              "    <div class=\"colab-df-buttons\">\n",
              "\n",
              "  <div class=\"colab-df-container\">\n",
              "    <button class=\"colab-df-convert\" onclick=\"convertToInteractive('df-7bc46280-8c09-47de-ad70-3baf9a4b57a0')\"\n",
              "            title=\"Convert this dataframe to an interactive table.\"\n",
              "            style=\"display:none;\">\n",
              "\n",
              "  <svg xmlns=\"http://www.w3.org/2000/svg\" height=\"24px\" viewBox=\"0 -960 960 960\">\n",
              "    <path d=\"M120-120v-720h720v720H120Zm60-500h600v-160H180v160Zm220 220h160v-160H400v160Zm0 220h160v-160H400v160ZM180-400h160v-160H180v160Zm440 0h160v-160H620v160ZM180-180h160v-160H180v160Zm440 0h160v-160H620v160Z\"/>\n",
              "  </svg>\n",
              "    </button>\n",
              "\n",
              "  <style>\n",
              "    .colab-df-container {\n",
              "      display:flex;\n",
              "      gap: 12px;\n",
              "    }\n",
              "\n",
              "    .colab-df-convert {\n",
              "      background-color: #E8F0FE;\n",
              "      border: none;\n",
              "      border-radius: 50%;\n",
              "      cursor: pointer;\n",
              "      display: none;\n",
              "      fill: #1967D2;\n",
              "      height: 32px;\n",
              "      padding: 0 0 0 0;\n",
              "      width: 32px;\n",
              "    }\n",
              "\n",
              "    .colab-df-convert:hover {\n",
              "      background-color: #E2EBFA;\n",
              "      box-shadow: 0px 1px 2px rgba(60, 64, 67, 0.3), 0px 1px 3px 1px rgba(60, 64, 67, 0.15);\n",
              "      fill: #174EA6;\n",
              "    }\n",
              "\n",
              "    .colab-df-buttons div {\n",
              "      margin-bottom: 4px;\n",
              "    }\n",
              "\n",
              "    [theme=dark] .colab-df-convert {\n",
              "      background-color: #3B4455;\n",
              "      fill: #D2E3FC;\n",
              "    }\n",
              "\n",
              "    [theme=dark] .colab-df-convert:hover {\n",
              "      background-color: #434B5C;\n",
              "      box-shadow: 0px 1px 3px 1px rgba(0, 0, 0, 0.15);\n",
              "      filter: drop-shadow(0px 1px 2px rgba(0, 0, 0, 0.3));\n",
              "      fill: #FFFFFF;\n",
              "    }\n",
              "  </style>\n",
              "\n",
              "    <script>\n",
              "      const buttonEl =\n",
              "        document.querySelector('#df-7bc46280-8c09-47de-ad70-3baf9a4b57a0 button.colab-df-convert');\n",
              "      buttonEl.style.display =\n",
              "        google.colab.kernel.accessAllowed ? 'block' : 'none';\n",
              "\n",
              "      async function convertToInteractive(key) {\n",
              "        const element = document.querySelector('#df-7bc46280-8c09-47de-ad70-3baf9a4b57a0');\n",
              "        const dataTable =\n",
              "          await google.colab.kernel.invokeFunction('convertToInteractive',\n",
              "                                                    [key], {});\n",
              "        if (!dataTable) return;\n",
              "\n",
              "        const docLinkHtml = 'Like what you see? Visit the ' +\n",
              "          '<a target=\"_blank\" href=https://colab.research.google.com/notebooks/data_table.ipynb>data table notebook</a>'\n",
              "          + ' to learn more about interactive tables.';\n",
              "        element.innerHTML = '';\n",
              "        dataTable['output_type'] = 'display_data';\n",
              "        await google.colab.output.renderOutput(dataTable, element);\n",
              "        const docLink = document.createElement('div');\n",
              "        docLink.innerHTML = docLinkHtml;\n",
              "        element.appendChild(docLink);\n",
              "      }\n",
              "    </script>\n",
              "  </div>\n",
              "\n",
              "\n",
              "    <div id=\"df-04a9419b-9ce5-4405-b373-57d567955f28\">\n",
              "      <button class=\"colab-df-quickchart\" onclick=\"quickchart('df-04a9419b-9ce5-4405-b373-57d567955f28')\"\n",
              "                title=\"Suggest charts\"\n",
              "                style=\"display:none;\">\n",
              "\n",
              "<svg xmlns=\"http://www.w3.org/2000/svg\" height=\"24px\"viewBox=\"0 0 24 24\"\n",
              "     width=\"24px\">\n",
              "    <g>\n",
              "        <path d=\"M19 3H5c-1.1 0-2 .9-2 2v14c0 1.1.9 2 2 2h14c1.1 0 2-.9 2-2V5c0-1.1-.9-2-2-2zM9 17H7v-7h2v7zm4 0h-2V7h2v10zm4 0h-2v-4h2v4z\"/>\n",
              "    </g>\n",
              "</svg>\n",
              "      </button>\n",
              "\n",
              "<style>\n",
              "  .colab-df-quickchart {\n",
              "      --bg-color: #E8F0FE;\n",
              "      --fill-color: #1967D2;\n",
              "      --hover-bg-color: #E2EBFA;\n",
              "      --hover-fill-color: #174EA6;\n",
              "      --disabled-fill-color: #AAA;\n",
              "      --disabled-bg-color: #DDD;\n",
              "  }\n",
              "\n",
              "  [theme=dark] .colab-df-quickchart {\n",
              "      --bg-color: #3B4455;\n",
              "      --fill-color: #D2E3FC;\n",
              "      --hover-bg-color: #434B5C;\n",
              "      --hover-fill-color: #FFFFFF;\n",
              "      --disabled-bg-color: #3B4455;\n",
              "      --disabled-fill-color: #666;\n",
              "  }\n",
              "\n",
              "  .colab-df-quickchart {\n",
              "    background-color: var(--bg-color);\n",
              "    border: none;\n",
              "    border-radius: 50%;\n",
              "    cursor: pointer;\n",
              "    display: none;\n",
              "    fill: var(--fill-color);\n",
              "    height: 32px;\n",
              "    padding: 0;\n",
              "    width: 32px;\n",
              "  }\n",
              "\n",
              "  .colab-df-quickchart:hover {\n",
              "    background-color: var(--hover-bg-color);\n",
              "    box-shadow: 0 1px 2px rgba(60, 64, 67, 0.3), 0 1px 3px 1px rgba(60, 64, 67, 0.15);\n",
              "    fill: var(--button-hover-fill-color);\n",
              "  }\n",
              "\n",
              "  .colab-df-quickchart-complete:disabled,\n",
              "  .colab-df-quickchart-complete:disabled:hover {\n",
              "    background-color: var(--disabled-bg-color);\n",
              "    fill: var(--disabled-fill-color);\n",
              "    box-shadow: none;\n",
              "  }\n",
              "\n",
              "  .colab-df-spinner {\n",
              "    border: 2px solid var(--fill-color);\n",
              "    border-color: transparent;\n",
              "    border-bottom-color: var(--fill-color);\n",
              "    animation:\n",
              "      spin 1s steps(1) infinite;\n",
              "  }\n",
              "\n",
              "  @keyframes spin {\n",
              "    0% {\n",
              "      border-color: transparent;\n",
              "      border-bottom-color: var(--fill-color);\n",
              "      border-left-color: var(--fill-color);\n",
              "    }\n",
              "    20% {\n",
              "      border-color: transparent;\n",
              "      border-left-color: var(--fill-color);\n",
              "      border-top-color: var(--fill-color);\n",
              "    }\n",
              "    30% {\n",
              "      border-color: transparent;\n",
              "      border-left-color: var(--fill-color);\n",
              "      border-top-color: var(--fill-color);\n",
              "      border-right-color: var(--fill-color);\n",
              "    }\n",
              "    40% {\n",
              "      border-color: transparent;\n",
              "      border-right-color: var(--fill-color);\n",
              "      border-top-color: var(--fill-color);\n",
              "    }\n",
              "    60% {\n",
              "      border-color: transparent;\n",
              "      border-right-color: var(--fill-color);\n",
              "    }\n",
              "    80% {\n",
              "      border-color: transparent;\n",
              "      border-right-color: var(--fill-color);\n",
              "      border-bottom-color: var(--fill-color);\n",
              "    }\n",
              "    90% {\n",
              "      border-color: transparent;\n",
              "      border-bottom-color: var(--fill-color);\n",
              "    }\n",
              "  }\n",
              "</style>\n",
              "\n",
              "      <script>\n",
              "        async function quickchart(key) {\n",
              "          const quickchartButtonEl =\n",
              "            document.querySelector('#' + key + ' button');\n",
              "          quickchartButtonEl.disabled = true;  // To prevent multiple clicks.\n",
              "          quickchartButtonEl.classList.add('colab-df-spinner');\n",
              "          try {\n",
              "            const charts = await google.colab.kernel.invokeFunction(\n",
              "                'suggestCharts', [key], {});\n",
              "          } catch (error) {\n",
              "            console.error('Error during call to suggestCharts:', error);\n",
              "          }\n",
              "          quickchartButtonEl.classList.remove('colab-df-spinner');\n",
              "          quickchartButtonEl.classList.add('colab-df-quickchart-complete');\n",
              "        }\n",
              "        (() => {\n",
              "          let quickchartButtonEl =\n",
              "            document.querySelector('#df-04a9419b-9ce5-4405-b373-57d567955f28 button');\n",
              "          quickchartButtonEl.style.display =\n",
              "            google.colab.kernel.accessAllowed ? 'block' : 'none';\n",
              "        })();\n",
              "      </script>\n",
              "    </div>\n",
              "\n",
              "    </div>\n",
              "  </div>\n"
            ],
            "application/vnd.google.colaboratory.intrinsic+json": {
              "type": "dataframe",
              "variable_name": "sampled_df_2019",
              "summary": "{\n  \"name\": \"sampled_df_2019\",\n  \"rows\": 1000,\n  \"fields\": [\n    {\n      \"column\": \"listing_id\",\n      \"properties\": {\n        \"dtype\": \"number\",\n        \"std\": 8445980,\n        \"min\": 10988,\n        \"max\": 32972704,\n        \"num_unique_values\": 812,\n        \"samples\": [\n          27080622,\n          1215055,\n          24051218\n        ],\n        \"semantic_type\": \"\",\n        \"description\": \"\"\n      }\n    },\n    {\n      \"column\": \"comments\",\n      \"properties\": {\n        \"dtype\": \"string\",\n        \"num_unique_values\": 998,\n        \"samples\": [\n          \"dannys apartment situated central area charming district close syntagma square good connections rest city piraeus port airport spacious clean apartment comfortable beds check inout easy danny answered us quickly send us directions waited us aprtment kind let us store luggages apartment 1100 convinient us\",\n          \"sakis spiris wereextremely accommodating hosts would whole heartedly recommend place others\",\n          \"terrific place stay thanos arrived answered questions promptly including suggesting using app taxibeat like uber states space pictured even better actually two air conditioning units really necessary 110 degrees visited bed comfortable actually 3 balconiesthe view parthenon fantastic pay fancy restaurant view parthenon view balcony cant beat\"\n        ],\n        \"semantic_type\": \"\",\n        \"description\": \"\"\n      }\n    },\n    {\n      \"column\": \"neighbourhood_cleansed\",\n      \"properties\": {\n        \"dtype\": \"category\",\n        \"num_unique_values\": 39,\n        \"samples\": [\n          \"\\u039d\\u0399\\u03a1\\u0392\\u0391\\u039d\\u0391\",\n          \"\\u0391\\u0393\\u0399\\u039f\\u03a3 \\u039d\\u0399\\u039a\\u039f\\u039b\\u0391\\u039f\\u03a3\",\n          \"\\u039a\\u0395\\u03a1\\u0391\\u039c\\u0395\\u0399\\u039a\\u039f\\u03a3\"\n        ],\n        \"semantic_type\": \"\",\n        \"description\": \"\"\n      }\n    }\n  ]\n}"
            }
          },
          "metadata": {},
          "execution_count": 10
        }
      ],
      "source": [
        "# Apply the cleaning function to the comments column\n",
        "sampled_df_2019['comments'] = sampled_df_2019['comments'].apply(clean_comments)\n",
        "\n",
        "# Apply the language detection function and filter the DataFrame\n",
        "sampled_df_2019 = sampled_df_2019[sampled_df_2019['comments'].apply(is_english)]\n",
        "\n",
        "print(sampled_df_2019.shape)\n",
        "\n",
        "sampled_df_2019 = sampled_df_2019.sample(n=1000, random_state=42)\n",
        "\n",
        "sampled_df_2019.head()"
      ]
    },
    {
      "cell_type": "markdown",
      "source": [
        "#### **2023**"
      ],
      "metadata": {
        "id": "wlkttnF9_AR3"
      }
    },
    {
      "cell_type": "code",
      "source": [
        "# Apply the cleaning function to the comments column\n",
        "sampled_df_2023['comments'] = sampled_df_2023['comments'].apply(clean_comments)\n",
        "\n",
        "# Apply the language detection function and filter the DataFrame\n",
        "sampled_df_2023 = sampled_df_2023[sampled_df_2023['comments'].apply(is_english)]\n",
        "\n",
        "print(sampled_df_2023.shape)\n",
        "\n",
        "sampled_df_2023 = sampled_df_2023.sample(n=1000, random_state=42)\n",
        "\n",
        "sampled_df_2023.head()"
      ],
      "metadata": {
        "colab": {
          "base_uri": "https://localhost:8080/",
          "height": 221
        },
        "id": "q4wTCghl_EcH",
        "outputId": "0e74747a-60fb-4a55-c993-31e6dd57667f"
      },
      "execution_count": 11,
      "outputs": [
        {
          "output_type": "stream",
          "name": "stdout",
          "text": [
            "(6993, 3)\n"
          ]
        },
        {
          "output_type": "execute_result",
          "data": {
            "text/plain": [
              "                listing_id                                           comments  \\\n",
              "39068              7660473  tonia always responded fast great communicatio...   \n",
              "250438            24930160  best airbnb stayed everything pristine host su...   \n",
              "534029  630395925819193175  prosbrsmooth operation hasselbrexcellent commu...   \n",
              "143785            18144362  cosy conveniently placed apartment heart touri...   \n",
              "59886              9206258  liberty responsive helpful space clean appreci...   \n",
              "\n",
              "        neighbourhood_cleansed  \n",
              "39068          ΠΛΑΤΕΙΑ ΑΤΤΙΚΗΣ  \n",
              "250438  ΕΜΠΟΡΙΚΟ ΤΡΙΓΩΝΟ-ΠΛΑΚΑ  \n",
              "534029     ΚΟΥΚΑΚΙ-ΜΑΚΡΥΓΙΑΝΝΗ  \n",
              "143785              ΚΕΡΑΜΕΙΚΟΣ  \n",
              "59886   ΕΜΠΟΡΙΚΟ ΤΡΙΓΩΝΟ-ΠΛΑΚΑ  "
            ],
            "text/html": [
              "\n",
              "  <div id=\"df-e2122c5e-1adf-4e3a-84e2-9154444299ec\" class=\"colab-df-container\">\n",
              "    <div>\n",
              "<style scoped>\n",
              "    .dataframe tbody tr th:only-of-type {\n",
              "        vertical-align: middle;\n",
              "    }\n",
              "\n",
              "    .dataframe tbody tr th {\n",
              "        vertical-align: top;\n",
              "    }\n",
              "\n",
              "    .dataframe thead th {\n",
              "        text-align: right;\n",
              "    }\n",
              "</style>\n",
              "<table border=\"1\" class=\"dataframe\">\n",
              "  <thead>\n",
              "    <tr style=\"text-align: right;\">\n",
              "      <th></th>\n",
              "      <th>listing_id</th>\n",
              "      <th>comments</th>\n",
              "      <th>neighbourhood_cleansed</th>\n",
              "    </tr>\n",
              "  </thead>\n",
              "  <tbody>\n",
              "    <tr>\n",
              "      <th>39068</th>\n",
              "      <td>7660473</td>\n",
              "      <td>tonia always responded fast great communicatio...</td>\n",
              "      <td>ΠΛΑΤΕΙΑ ΑΤΤΙΚΗΣ</td>\n",
              "    </tr>\n",
              "    <tr>\n",
              "      <th>250438</th>\n",
              "      <td>24930160</td>\n",
              "      <td>best airbnb stayed everything pristine host su...</td>\n",
              "      <td>ΕΜΠΟΡΙΚΟ ΤΡΙΓΩΝΟ-ΠΛΑΚΑ</td>\n",
              "    </tr>\n",
              "    <tr>\n",
              "      <th>534029</th>\n",
              "      <td>630395925819193175</td>\n",
              "      <td>prosbrsmooth operation hasselbrexcellent commu...</td>\n",
              "      <td>ΚΟΥΚΑΚΙ-ΜΑΚΡΥΓΙΑΝΝΗ</td>\n",
              "    </tr>\n",
              "    <tr>\n",
              "      <th>143785</th>\n",
              "      <td>18144362</td>\n",
              "      <td>cosy conveniently placed apartment heart touri...</td>\n",
              "      <td>ΚΕΡΑΜΕΙΚΟΣ</td>\n",
              "    </tr>\n",
              "    <tr>\n",
              "      <th>59886</th>\n",
              "      <td>9206258</td>\n",
              "      <td>liberty responsive helpful space clean appreci...</td>\n",
              "      <td>ΕΜΠΟΡΙΚΟ ΤΡΙΓΩΝΟ-ΠΛΑΚΑ</td>\n",
              "    </tr>\n",
              "  </tbody>\n",
              "</table>\n",
              "</div>\n",
              "    <div class=\"colab-df-buttons\">\n",
              "\n",
              "  <div class=\"colab-df-container\">\n",
              "    <button class=\"colab-df-convert\" onclick=\"convertToInteractive('df-e2122c5e-1adf-4e3a-84e2-9154444299ec')\"\n",
              "            title=\"Convert this dataframe to an interactive table.\"\n",
              "            style=\"display:none;\">\n",
              "\n",
              "  <svg xmlns=\"http://www.w3.org/2000/svg\" height=\"24px\" viewBox=\"0 -960 960 960\">\n",
              "    <path d=\"M120-120v-720h720v720H120Zm60-500h600v-160H180v160Zm220 220h160v-160H400v160Zm0 220h160v-160H400v160ZM180-400h160v-160H180v160Zm440 0h160v-160H620v160ZM180-180h160v-160H180v160Zm440 0h160v-160H620v160Z\"/>\n",
              "  </svg>\n",
              "    </button>\n",
              "\n",
              "  <style>\n",
              "    .colab-df-container {\n",
              "      display:flex;\n",
              "      gap: 12px;\n",
              "    }\n",
              "\n",
              "    .colab-df-convert {\n",
              "      background-color: #E8F0FE;\n",
              "      border: none;\n",
              "      border-radius: 50%;\n",
              "      cursor: pointer;\n",
              "      display: none;\n",
              "      fill: #1967D2;\n",
              "      height: 32px;\n",
              "      padding: 0 0 0 0;\n",
              "      width: 32px;\n",
              "    }\n",
              "\n",
              "    .colab-df-convert:hover {\n",
              "      background-color: #E2EBFA;\n",
              "      box-shadow: 0px 1px 2px rgba(60, 64, 67, 0.3), 0px 1px 3px 1px rgba(60, 64, 67, 0.15);\n",
              "      fill: #174EA6;\n",
              "    }\n",
              "\n",
              "    .colab-df-buttons div {\n",
              "      margin-bottom: 4px;\n",
              "    }\n",
              "\n",
              "    [theme=dark] .colab-df-convert {\n",
              "      background-color: #3B4455;\n",
              "      fill: #D2E3FC;\n",
              "    }\n",
              "\n",
              "    [theme=dark] .colab-df-convert:hover {\n",
              "      background-color: #434B5C;\n",
              "      box-shadow: 0px 1px 3px 1px rgba(0, 0, 0, 0.15);\n",
              "      filter: drop-shadow(0px 1px 2px rgba(0, 0, 0, 0.3));\n",
              "      fill: #FFFFFF;\n",
              "    }\n",
              "  </style>\n",
              "\n",
              "    <script>\n",
              "      const buttonEl =\n",
              "        document.querySelector('#df-e2122c5e-1adf-4e3a-84e2-9154444299ec button.colab-df-convert');\n",
              "      buttonEl.style.display =\n",
              "        google.colab.kernel.accessAllowed ? 'block' : 'none';\n",
              "\n",
              "      async function convertToInteractive(key) {\n",
              "        const element = document.querySelector('#df-e2122c5e-1adf-4e3a-84e2-9154444299ec');\n",
              "        const dataTable =\n",
              "          await google.colab.kernel.invokeFunction('convertToInteractive',\n",
              "                                                    [key], {});\n",
              "        if (!dataTable) return;\n",
              "\n",
              "        const docLinkHtml = 'Like what you see? Visit the ' +\n",
              "          '<a target=\"_blank\" href=https://colab.research.google.com/notebooks/data_table.ipynb>data table notebook</a>'\n",
              "          + ' to learn more about interactive tables.';\n",
              "        element.innerHTML = '';\n",
              "        dataTable['output_type'] = 'display_data';\n",
              "        await google.colab.output.renderOutput(dataTable, element);\n",
              "        const docLink = document.createElement('div');\n",
              "        docLink.innerHTML = docLinkHtml;\n",
              "        element.appendChild(docLink);\n",
              "      }\n",
              "    </script>\n",
              "  </div>\n",
              "\n",
              "\n",
              "    <div id=\"df-79c7ed82-c0e5-4dd7-bce7-7eb932307388\">\n",
              "      <button class=\"colab-df-quickchart\" onclick=\"quickchart('df-79c7ed82-c0e5-4dd7-bce7-7eb932307388')\"\n",
              "                title=\"Suggest charts\"\n",
              "                style=\"display:none;\">\n",
              "\n",
              "<svg xmlns=\"http://www.w3.org/2000/svg\" height=\"24px\"viewBox=\"0 0 24 24\"\n",
              "     width=\"24px\">\n",
              "    <g>\n",
              "        <path d=\"M19 3H5c-1.1 0-2 .9-2 2v14c0 1.1.9 2 2 2h14c1.1 0 2-.9 2-2V5c0-1.1-.9-2-2-2zM9 17H7v-7h2v7zm4 0h-2V7h2v10zm4 0h-2v-4h2v4z\"/>\n",
              "    </g>\n",
              "</svg>\n",
              "      </button>\n",
              "\n",
              "<style>\n",
              "  .colab-df-quickchart {\n",
              "      --bg-color: #E8F0FE;\n",
              "      --fill-color: #1967D2;\n",
              "      --hover-bg-color: #E2EBFA;\n",
              "      --hover-fill-color: #174EA6;\n",
              "      --disabled-fill-color: #AAA;\n",
              "      --disabled-bg-color: #DDD;\n",
              "  }\n",
              "\n",
              "  [theme=dark] .colab-df-quickchart {\n",
              "      --bg-color: #3B4455;\n",
              "      --fill-color: #D2E3FC;\n",
              "      --hover-bg-color: #434B5C;\n",
              "      --hover-fill-color: #FFFFFF;\n",
              "      --disabled-bg-color: #3B4455;\n",
              "      --disabled-fill-color: #666;\n",
              "  }\n",
              "\n",
              "  .colab-df-quickchart {\n",
              "    background-color: var(--bg-color);\n",
              "    border: none;\n",
              "    border-radius: 50%;\n",
              "    cursor: pointer;\n",
              "    display: none;\n",
              "    fill: var(--fill-color);\n",
              "    height: 32px;\n",
              "    padding: 0;\n",
              "    width: 32px;\n",
              "  }\n",
              "\n",
              "  .colab-df-quickchart:hover {\n",
              "    background-color: var(--hover-bg-color);\n",
              "    box-shadow: 0 1px 2px rgba(60, 64, 67, 0.3), 0 1px 3px 1px rgba(60, 64, 67, 0.15);\n",
              "    fill: var(--button-hover-fill-color);\n",
              "  }\n",
              "\n",
              "  .colab-df-quickchart-complete:disabled,\n",
              "  .colab-df-quickchart-complete:disabled:hover {\n",
              "    background-color: var(--disabled-bg-color);\n",
              "    fill: var(--disabled-fill-color);\n",
              "    box-shadow: none;\n",
              "  }\n",
              "\n",
              "  .colab-df-spinner {\n",
              "    border: 2px solid var(--fill-color);\n",
              "    border-color: transparent;\n",
              "    border-bottom-color: var(--fill-color);\n",
              "    animation:\n",
              "      spin 1s steps(1) infinite;\n",
              "  }\n",
              "\n",
              "  @keyframes spin {\n",
              "    0% {\n",
              "      border-color: transparent;\n",
              "      border-bottom-color: var(--fill-color);\n",
              "      border-left-color: var(--fill-color);\n",
              "    }\n",
              "    20% {\n",
              "      border-color: transparent;\n",
              "      border-left-color: var(--fill-color);\n",
              "      border-top-color: var(--fill-color);\n",
              "    }\n",
              "    30% {\n",
              "      border-color: transparent;\n",
              "      border-left-color: var(--fill-color);\n",
              "      border-top-color: var(--fill-color);\n",
              "      border-right-color: var(--fill-color);\n",
              "    }\n",
              "    40% {\n",
              "      border-color: transparent;\n",
              "      border-right-color: var(--fill-color);\n",
              "      border-top-color: var(--fill-color);\n",
              "    }\n",
              "    60% {\n",
              "      border-color: transparent;\n",
              "      border-right-color: var(--fill-color);\n",
              "    }\n",
              "    80% {\n",
              "      border-color: transparent;\n",
              "      border-right-color: var(--fill-color);\n",
              "      border-bottom-color: var(--fill-color);\n",
              "    }\n",
              "    90% {\n",
              "      border-color: transparent;\n",
              "      border-bottom-color: var(--fill-color);\n",
              "    }\n",
              "  }\n",
              "</style>\n",
              "\n",
              "      <script>\n",
              "        async function quickchart(key) {\n",
              "          const quickchartButtonEl =\n",
              "            document.querySelector('#' + key + ' button');\n",
              "          quickchartButtonEl.disabled = true;  // To prevent multiple clicks.\n",
              "          quickchartButtonEl.classList.add('colab-df-spinner');\n",
              "          try {\n",
              "            const charts = await google.colab.kernel.invokeFunction(\n",
              "                'suggestCharts', [key], {});\n",
              "          } catch (error) {\n",
              "            console.error('Error during call to suggestCharts:', error);\n",
              "          }\n",
              "          quickchartButtonEl.classList.remove('colab-df-spinner');\n",
              "          quickchartButtonEl.classList.add('colab-df-quickchart-complete');\n",
              "        }\n",
              "        (() => {\n",
              "          let quickchartButtonEl =\n",
              "            document.querySelector('#df-79c7ed82-c0e5-4dd7-bce7-7eb932307388 button');\n",
              "          quickchartButtonEl.style.display =\n",
              "            google.colab.kernel.accessAllowed ? 'block' : 'none';\n",
              "        })();\n",
              "      </script>\n",
              "    </div>\n",
              "\n",
              "    </div>\n",
              "  </div>\n"
            ],
            "application/vnd.google.colaboratory.intrinsic+json": {
              "type": "dataframe",
              "variable_name": "sampled_df_2023",
              "summary": "{\n  \"name\": \"sampled_df_2023\",\n  \"rows\": 1000,\n  \"fields\": [\n    {\n      \"column\": \"listing_id\",\n      \"properties\": {\n        \"dtype\": \"number\",\n        \"std\": 182234244152237568,\n        \"min\": 133906,\n        \"max\": 891889551981736673,\n        \"num_unique_values\": 845,\n        \"samples\": [\n          49284591,\n          23924094,\n          23727844\n        ],\n        \"semantic_type\": \"\",\n        \"description\": \"\"\n      }\n    },\n    {\n      \"column\": \"comments\",\n      \"properties\": {\n        \"dtype\": \"string\",\n        \"num_unique_values\": 995,\n        \"samples\": [\n          \"really great experience staying pantelis apartment every aspect stylish clean apartment city centre athens pantelis great helpful host overall 55\",\n          \"great apartment perfect location would definitely stay\",\n          \"nasty place also charge almost 12 euro cleaning services best place athenas better options pricebrthe bathroom awful looks nothing like pictures beautiful facilites left much wishbrnot recommended\"\n        ],\n        \"semantic_type\": \"\",\n        \"description\": \"\"\n      }\n    },\n    {\n      \"column\": \"neighbourhood_cleansed\",\n      \"properties\": {\n        \"dtype\": \"category\",\n        \"num_unique_values\": 39,\n        \"samples\": [\n          \"\\u039d\\u0395\\u0391 \\u039a\\u03a5\\u03a8\\u0395\\u039b\\u0397\",\n          \"\\u03a0\\u0391\\u03a4\\u0397\\u03a3\\u0399\\u0391\",\n          \"\\u0391\\u0393\\u0399\\u039f\\u03a3 \\u039a\\u03a9\\u039d\\u03a3\\u03a4\\u0391\\u039d\\u03a4\\u0399\\u039d\\u039f\\u03a3-\\u03a0\\u039b\\u0391\\u03a4\\u0395\\u0399\\u0391 \\u0392\\u0391\\u0398\\u0397\\u03a3\"\n        ],\n        \"semantic_type\": \"\",\n        \"description\": \"\"\n      }\n    }\n  ]\n}"
            }
          },
          "metadata": {},
          "execution_count": 11
        }
      ]
    },
    {
      "cell_type": "markdown",
      "metadata": {
        "id": "ZfalUkFXoX_7"
      },
      "source": [
        "### **Annotation Process**"
      ]
    },
    {
      "cell_type": "markdown",
      "source": [
        "📝 To annotate the 'comments' column in our data, we used a pre-trained BERT sentiment classifier, specifically the [phanerozoic/BERT-Sentiment-Classifier](https://huggingface.co/phanerozoic/BERT-Sentiment-Classifier) model. This model performs binary classification (negative/positive). We chose this binary classification approach because other three-class models we tested did not produce any neutral sentiments."
      ],
      "metadata": {
        "id": "UAx2qdJ3ybgb"
      }
    },
    {
      "cell_type": "code",
      "source": [
        "from transformers import pipeline, AutoTokenizer, AutoModelForSequenceClassification\n",
        "\n",
        "# Load the tokenizer and model\n",
        "model_name = \"phanerozoic/BERT-Sentiment-Classifier\"\n",
        "tokenizer = AutoTokenizer.from_pretrained(model_name)\n",
        "model = AutoModelForSequenceClassification.from_pretrained(model_name)\n",
        "\n",
        "# Set up the sentiment analysis pipeline\n",
        "sentiment_pipeline = pipeline(\"sentiment-analysis\", model=model, tokenizer=tokenizer)\n",
        "\n",
        "# Function to truncate the text to the maximum token length\n",
        "def truncate_text(text, tokenizer, max_length=512):\n",
        "    encoded = tokenizer.encode_plus(text, truncation=True, max_length=max_length, return_tensors='pt')\n",
        "    return tokenizer.decode(encoded['input_ids'][0], skip_special_tokens=True)\n",
        "\n",
        "# Function to annotate sentiment for a chunk of data\n",
        "def annotate_sentiment(df_chunk, tokenizer):\n",
        "    label_to_sentiment = {\"LABEL_0\": \"negative\", \"LABEL_1\": \"positive\"}\n",
        "    sentiments = []\n",
        "    for comment in df_chunk['comments']:\n",
        "        truncated_comment = truncate_text(comment, tokenizer)\n",
        "        result = sentiment_pipeline(truncated_comment)[0]\n",
        "        sentiments.append(label_to_sentiment[result['label']])\n",
        "    df_chunk = df_chunk.copy()  # Make a copy to avoid the SettingWithCopyWarning\n",
        "    df_chunk['sentiment'] = sentiments\n",
        "    return df_chunk"
      ],
      "metadata": {
        "id": "d0vWYxLDYweX",
        "colab": {
          "base_uri": "https://localhost:8080/"
        },
        "outputId": "2a6ea155-ed1a-4ea5-c414-cdc1672fc15e"
      },
      "execution_count": 12,
      "outputs": [
        {
          "output_type": "stream",
          "name": "stderr",
          "text": [
            "/usr/local/lib/python3.12/dist-packages/huggingface_hub/utils/_auth.py:94: UserWarning: \n",
            "The secret `HF_TOKEN` does not exist in your Colab secrets.\n",
            "To authenticate with the Hugging Face Hub, create a token in your settings tab (https://huggingface.co/settings/tokens), set it as secret in your Google Colab and restart your session.\n",
            "You will be able to reuse this secret in all of your notebooks.\n",
            "Please note that authentication is recommended but still optional to access public models or datasets.\n",
            "  warnings.warn(\n",
            "Device set to use cpu\n"
          ]
        }
      ]
    },
    {
      "cell_type": "markdown",
      "source": [
        "\n",
        "\n",
        "---\n",
        "\n",
        "\n",
        "📝 After some experiments, we observed that the sentiments produced were not balanced, resulting in a large number of positive comments. To achieve a more balanced distribution of positive and negative sentiments, we decided to use the negative words library from the opinion lexicon. By identifying comments containing words from this library, we could change their sentiments to negative, ensuring a closer balance between positive and negative comments."
      ],
      "metadata": {
        "id": "Q1vB_c420vHp"
      }
    },
    {
      "cell_type": "code",
      "source": [
        "!pip install nltk"
      ],
      "metadata": {
        "colab": {
          "base_uri": "https://localhost:8080/"
        },
        "id": "Wi-nKyHfLyB0",
        "outputId": "fecabfc6-e0a2-4d13-a988-ac70c4255ba1"
      },
      "execution_count": 13,
      "outputs": [
        {
          "output_type": "stream",
          "name": "stdout",
          "text": [
            "Requirement already satisfied: nltk in /usr/local/lib/python3.12/dist-packages (3.9.1)\n",
            "Requirement already satisfied: click in /usr/local/lib/python3.12/dist-packages (from nltk) (8.2.1)\n",
            "Requirement already satisfied: joblib in /usr/local/lib/python3.12/dist-packages (from nltk) (1.5.2)\n",
            "Requirement already satisfied: regex>=2021.8.3 in /usr/local/lib/python3.12/dist-packages (from nltk) (2024.11.6)\n",
            "Requirement already satisfied: tqdm in /usr/local/lib/python3.12/dist-packages (from nltk) (4.67.1)\n"
          ]
        }
      ]
    },
    {
      "cell_type": "code",
      "source": [
        "import nltk\n",
        "nltk.download('opinion_lexicon')"
      ],
      "metadata": {
        "colab": {
          "base_uri": "https://localhost:8080/"
        },
        "id": "GU2wyVbCL16y",
        "outputId": "b1b498b5-2d33-4885-d347-4710fb5cd6e3"
      },
      "execution_count": 14,
      "outputs": [
        {
          "output_type": "stream",
          "name": "stderr",
          "text": [
            "[nltk_data] Downloading package opinion_lexicon to /root/nltk_data...\n",
            "[nltk_data]   Package opinion_lexicon is already up-to-date!\n"
          ]
        },
        {
          "output_type": "execute_result",
          "data": {
            "text/plain": [
              "True"
            ]
          },
          "metadata": {},
          "execution_count": 14
        }
      ]
    },
    {
      "cell_type": "code",
      "source": [
        "from nltk.corpus import opinion_lexicon\n",
        "\n",
        "# Load the negative words from the opinion_lexicon\n",
        "negative_words = set(opinion_lexicon.negative())\n",
        "\n",
        "# Function to check if a comment contains any negative words\n",
        "def contains_negative_words(comment):\n",
        "    comment_lower = comment.lower()\n",
        "    words = comment_lower.split()\n",
        "    return any(word in negative_words for word in words)"
      ],
      "metadata": {
        "id": "5yxmU5imrFEV"
      },
      "execution_count": 15,
      "outputs": []
    },
    {
      "cell_type": "markdown",
      "source": [
        "**2019**"
      ],
      "metadata": {
        "id": "b8dm0u8LbgS0"
      }
    },
    {
      "cell_type": "code",
      "source": [
        "# Split the data into chunks\n",
        "chunk_size = 500\n",
        "chunks_2019 = [sampled_df_2019.iloc[i:i + chunk_size] for i in range(0, sampled_df_2019.shape[0], chunk_size)]\n",
        "\n",
        "# Annotate sentiment for each chunk\n",
        "annotated_chunks_2019 = [annotate_sentiment(chunk, tokenizer) for chunk in chunks_2019]\n",
        "\n",
        "# Concatenate the annotated chunks\n",
        "annotated_df_2019 = pd.concat(annotated_chunks_2019, ignore_index=True)\n",
        "\n",
        "# Filter positive data\n",
        "annotated_df_2019['sentiment'] = annotated_df_2019.apply(\n",
        "    lambda row: 'negative' if row['sentiment'] == 'positive' and contains_negative_words(row['comments']) else row['sentiment'],\n",
        "    axis=1\n",
        ")\n",
        "\n",
        "# Select required columns\n",
        "final_df_2019 = annotated_df_2019[['listing_id', 'comments', 'sentiment', 'neighbourhood_cleansed']]\n",
        "\n",
        "# Display the resulting dataframe\n",
        "print(final_df_2019.head(200))\n",
        "\n",
        "# Print the shape of the final dataframe\n",
        "print(final_df_2019.shape)"
      ],
      "metadata": {
        "id": "6oLNQG-ybfCj",
        "colab": {
          "base_uri": "https://localhost:8080/"
        },
        "outputId": "01af2b3e-fe75-4670-b695-eafdf7201e6d"
      },
      "execution_count": 16,
      "outputs": [
        {
          "output_type": "stream",
          "name": "stdout",
          "text": [
            "     listing_id                                           comments sentiment  \\\n",
            "0      11614090  panos awesome host responsive start offered se...  positive   \n",
            "1      10898803  pictures lie spacious clean upscale condo hear...  negative   \n",
            "2      20091938  sofia responsive gentle flexiblea perfect host...  positive   \n",
            "3      19420005  marios fast responsive polite guest house need...  positive   \n",
            "4      30391533                            really nice place clean  positive   \n",
            "..          ...                                                ...       ...   \n",
            "195     9525227  everything perfect good location appartment re...  positive   \n",
            "196    26146857  chris amazing host house location perfect best...  positive   \n",
            "197    19016777  really nice apartment good location highly rec...  positive   \n",
            "198    26697232  dont tend leave whole 5 stars review house exc...  positive   \n",
            "199     2677855  couple friends join group fairly late ended ma...  negative   \n",
            "\n",
            "               neighbourhood_cleansed  \n",
            "0                              ΣΤΑΔΙΟ  \n",
            "1                             ΖΑΠΠΕΙΟ  \n",
            "2              ΕΜΠΟΡΙΚΟ ΤΡΙΓΩΝΟ-ΠΛΑΚΑ  \n",
            "3              ΕΜΠΟΡΙΚΟ ΤΡΙΓΩΝΟ-ΠΛΑΚΑ  \n",
            "4                         ΝΕΟΣ ΚΟΣΜΟΣ  \n",
            "..                                ...  \n",
            "195            ΕΜΠΟΡΙΚΟ ΤΡΙΓΩΝΟ-ΠΛΑΚΑ  \n",
            "196                   ΠΛΑΤΕΙΑ ΑΤΤΙΚΗΣ  \n",
            "197                        ΚΕΡΑΜΕΙΚΟΣ  \n",
            "198          ΜΟΥΣΕΙΟ-ΕΞΑΡΧΕΙΑ-ΝΕΑΠΟΛΗ  \n",
            "199  ΑΓΙΟΣ ΚΩΝΣΤΑΝΤΙΝΟΣ-ΠΛΑΤΕΙΑ ΒΑΘΗΣ  \n",
            "\n",
            "[200 rows x 4 columns]\n",
            "(1000, 4)\n"
          ]
        }
      ]
    },
    {
      "cell_type": "markdown",
      "source": [
        "**2023**"
      ],
      "metadata": {
        "id": "y3eTTsi9biLE"
      }
    },
    {
      "cell_type": "code",
      "source": [
        "# Split the data into chunks\n",
        "chunks_2023 = [sampled_df_2023.iloc[i:i + chunk_size] for i in range(0, sampled_df_2023.shape[0], chunk_size)]\n",
        "\n",
        "# Annotate sentiment for each chunk\n",
        "annotated_chunks_2023 = [annotate_sentiment(chunk, tokenizer) for chunk in chunks_2023]\n",
        "\n",
        "# Concatenate the annotated chunks\n",
        "annotated_df_2023 = pd.concat(annotated_chunks_2023, ignore_index=True)\n",
        "\n",
        "# Filter positive data\n",
        "annotated_df_2023['sentiment'] = annotated_df_2023.apply(\n",
        "    lambda row: 'negative' if row['sentiment'] == 'positive' and contains_negative_words(row['comments']) else row['sentiment'],\n",
        "    axis=1\n",
        ")\n",
        "\n",
        "# Select required columns\n",
        "final_df_2023 = annotated_df_2023[['listing_id', 'comments', 'sentiment', 'neighbourhood_cleansed']]\n",
        "\n",
        "# Display the resulting dataframe\n",
        "print(final_df_2023.head(200))\n",
        "\n",
        "# Print the shape of the final dataframe\n",
        "print(final_df_2023.shape)"
      ],
      "metadata": {
        "id": "XIZ9_CMLbsey",
        "colab": {
          "base_uri": "https://localhost:8080/"
        },
        "outputId": "ea94c3e3-9f3a-466a-86b0-e58968ddf5b1"
      },
      "execution_count": 17,
      "outputs": [
        {
          "output_type": "stream",
          "name": "stdout",
          "text": [
            "             listing_id                                           comments  \\\n",
            "0               7660473  tonia always responded fast great communicatio...   \n",
            "1              24930160  best airbnb stayed everything pristine host su...   \n",
            "2    630395925819193175  prosbrsmooth operation hasselbrexcellent commu...   \n",
            "3              18144362  cosy conveniently placed apartment heart touri...   \n",
            "4               9206258  liberty responsive helpful space clean appreci...   \n",
            "..                  ...                                                ...   \n",
            "195             9206258  location best almost didnt need use public tra...   \n",
            "196            19499438  apartment wonderful lilly helpful communicatio...   \n",
            "197            36337859  great place stay plaka right across akropoli m...   \n",
            "198              401423  really nice place stay like home away home ral...   \n",
            "199            16268858      nice place subway 10 minutes away take places   \n",
            "\n",
            "    sentiment    neighbourhood_cleansed  \n",
            "0    positive           ΠΛΑΤΕΙΑ ΑΤΤΙΚΗΣ  \n",
            "1    positive    ΕΜΠΟΡΙΚΟ ΤΡΙΓΩΝΟ-ΠΛΑΚΑ  \n",
            "2    negative       ΚΟΥΚΑΚΙ-ΜΑΚΡΥΓΙΑΝΝΗ  \n",
            "3    positive                ΚΕΡΑΜΕΙΚΟΣ  \n",
            "4    positive    ΕΜΠΟΡΙΚΟ ΤΡΙΓΩΝΟ-ΠΛΑΚΑ  \n",
            "..        ...                       ...  \n",
            "195  positive    ΕΜΠΟΡΙΚΟ ΤΡΙΓΩΝΟ-ΠΛΑΚΑ  \n",
            "196  positive    ΕΜΠΟΡΙΚΟ ΤΡΙΓΩΝΟ-ΠΛΑΚΑ  \n",
            "197  negative                  ΑΚΡΟΠΟΛΗ  \n",
            "198  negative                  ΑΚΡΟΠΟΛΗ  \n",
            "199  positive  ΜΟΥΣΕΙΟ-ΕΞΑΡΧΕΙΑ-ΝΕΑΠΟΛΗ  \n",
            "\n",
            "[200 rows x 4 columns]\n",
            "(1000, 4)\n"
          ]
        }
      ]
    },
    {
      "cell_type": "markdown",
      "source": [
        "### **Sentiments Over Time** 📊"
      ],
      "metadata": {
        "id": "SGSqPN-zh44H"
      }
    },
    {
      "cell_type": "code",
      "source": [
        "# Group by sentiment and count the occurrences for 2019\n",
        "sentiment_counts_2019 = final_df_2019['sentiment'].value_counts().sort_index()\n",
        "\n",
        "# Group by sentiment and count the occurrences for 2023\n",
        "sentiment_counts_2023 = final_df_2023['sentiment'].value_counts().sort_index()\n",
        "\n",
        "# Create histograms\n",
        "fig, axs = plt.subplots(1, 2, figsize=(12, 6), sharey=True)\n",
        "\n",
        "# Plot for 2019\n",
        "axs[0].bar(sentiment_counts_2019.index, sentiment_counts_2019.values, color=['blue', 'green'])\n",
        "axs[0].set_title('Sentiment Distribution in 2019')\n",
        "axs[0].set_xlabel('Sentiment')\n",
        "axs[0].set_ylabel('Frequency')\n",
        "\n",
        "# Plot for 2023\n",
        "axs[1].bar(sentiment_counts_2023.index, sentiment_counts_2023.values, color=['blue', 'green'])\n",
        "axs[1].set_title('Sentiment Distribution in 2023')\n",
        "axs[1].set_xlabel('Sentiment')\n",
        "\n",
        "plt.tight_layout()\n",
        "plt.show()"
      ],
      "metadata": {
        "id": "x8Vk8ZiWeTeB",
        "colab": {
          "base_uri": "https://localhost:8080/",
          "height": 467
        },
        "outputId": "1e50e068-b86e-470d-ece9-831d36b160a0"
      },
      "execution_count": 18,
      "outputs": [
        {
          "output_type": "display_data",
          "data": {
            "text/plain": [
              "<Figure size 1200x600 with 2 Axes>"
            ],
            "image/png": "[encoded data removed]"
          },
          "metadata": {}
        }
      ]
    },
    {
      "cell_type": "markdown",
      "source": [
        "### **BONUS: Sentiments by Neighborhood Over Time** 🏘️"
      ],
      "metadata": {
        "id": "WTUDxAfKiGEK"
      }
    },
    {
      "cell_type": "code",
      "source": [
        "# Function to plot countplot by neighborhood and sentiment\n",
        "def plot_sentiment_countplot(df, title):\n",
        "    plt.figure(figsize=(14, 8))\n",
        "    sns.countplot(data=df, x='neighbourhood_cleansed', hue='sentiment')\n",
        "    plt.title(title)\n",
        "    plt.xlabel('Neighborhood')\n",
        "    plt.ylabel('Count')\n",
        "    plt.xticks(rotation=90)\n",
        "    plt.legend(title='Sentiment')\n",
        "    plt.show()\n",
        "\n",
        "# Plot for 2019\n",
        "plot_sentiment_countplot(final_df_2019, 'Sentiment Distribution by Neighborhood in 2019')\n",
        "\n",
        "# Plot for 2023\n",
        "plot_sentiment_countplot(final_df_2023, 'Sentiment Distribution by Neighborhood in 2023')\n"
      ],
      "metadata": {
        "id": "IPkDN4OCksTE",
        "colab": {
          "base_uri": "https://localhost:8080/",
          "height": 1000
        },
        "outputId": "4fb508f7-66e6-4041-a6c4-2b9311757992"
      },
      "execution_count": 19,
      "outputs": [
        {
          "output_type": "display_data",
          "data": {
            "text/plain": [
              "<Figure size 1400x800 with 1 Axes>"
            ],
            "image/png": "[encoded data removed]"
          },
          "metadata": {}
        },
        {
          "output_type": "display_data",
          "data": {
            "text/plain": [
              "<Figure size 1400x800 with 1 Axes>"
            ],
            "image/png": "[encoded data removed]"
          },
          "metadata": {}
        }
      ]
    },
    {
      "cell_type": "markdown",
      "source": [
        "### **Question 2**"
      ],
      "metadata": {
        "id": "F72G512UCj2I"
      }
    },
    {
      "cell_type": "markdown",
      "source": [
        "📝 For the rest of the questions we decided to use the data only from the year of 2023 because it already contained all the data from the previous years."
      ],
      "metadata": {
        "id": "eXRaxKnKaFFB"
      }
    },
    {
      "cell_type": "markdown",
      "source": [
        "#### **TF-IDF** 🔢"
      ],
      "metadata": {
        "id": "iiFtOB-VPwTz"
      }
    },
    {
      "cell_type": "code",
      "source": [
        "from sklearn.feature_extraction.text import TfidfVectorizer\n",
        "\n",
        "tfidf_vectorizer = TfidfVectorizer(min_df=1, max_features=25, stop_words='english')\n",
        "tfidf_vectors = tfidf_vectorizer.fit_transform(final_df_2023['comments'])\n",
        "tfidf_vectors = tfidf_vectors.toarray()"
      ],
      "metadata": {
        "id": "bWgsU0zRPxbo"
      },
      "execution_count": 20,
      "outputs": []
    },
    {
      "cell_type": "code",
      "source": [
        "print(tfidf_vectors.shape)\n",
        "print(tfidf_vectors[0])"
      ],
      "metadata": {
        "colab": {
          "base_uri": "https://localhost:8080/"
        },
        "id": "1qbzWCDjQEGu",
        "outputId": "602d1bc9-2fd5-4b49-ab65-05eefd79b2e5"
      },
      "execution_count": 21,
      "outputs": [
        {
          "output_type": "stream",
          "name": "stdout",
          "text": [
            "(1000, 25)\n",
            "[0.         0.         0.56557188 0.         0.34266622 0.41952512\n",
            " 0.         0.         0.         0.         0.26984892 0.\n",
            " 0.         0.         0.4664145  0.         0.         0.\n",
            " 0.         0.         0.         0.31039662 0.         0.\n",
            " 0.        ]\n"
          ]
        }
      ]
    },
    {
      "cell_type": "markdown",
      "source": [
        "#### **Word2Vec** 🔣"
      ],
      "metadata": {
        "id": "9-Y64V2EQK2v"
      }
    },
    {
      "cell_type": "code",
      "source": [
        "!pip install gensim"
      ],
      "metadata": {
        "colab": {
          "base_uri": "https://localhost:8080/"
        },
        "id": "MW0Xy5ahouNR",
        "outputId": "1451acf4-8276-4c49-b575-f009497342b2"
      },
      "execution_count": 22,
      "outputs": [
        {
          "output_type": "stream",
          "name": "stdout",
          "text": [
            "Requirement already satisfied: gensim in /usr/local/lib/python3.12/dist-packages (4.3.3)\n",
            "Requirement already satisfied: numpy<2.0,>=1.18.5 in /usr/local/lib/python3.12/dist-packages (from gensim) (1.26.4)\n",
            "Requirement already satisfied: scipy<1.14.0,>=1.7.0 in /usr/local/lib/python3.12/dist-packages (from gensim) (1.13.1)\n",
            "Requirement already satisfied: smart-open>=1.8.1 in /usr/local/lib/python3.12/dist-packages (from gensim) (7.3.0.post1)\n",
            "Requirement already satisfied: wrapt in /usr/local/lib/python3.12/dist-packages (from smart-open>=1.8.1->gensim) (1.17.3)\n"
          ]
        }
      ]
    },
    {
      "cell_type": "code",
      "source": [
        "import gensim.models\n",
        "\n",
        "tokenized_reviews = final_df_2023['comments'].apply(lambda x: x.split()) # tokenizing\n",
        "\n",
        "features = 25\n",
        "\n",
        "word2vec_model = gensim.models.Word2Vec(\n",
        "                 tokenized_reviews,\n",
        "                 vector_size = features, # number of features\n",
        "                 window = 5,             # window size\n",
        "                 min_count = 5,\n",
        "                 sg = 1,                 # use skip-gram model\n",
        "                 hs = 0,\n",
        "                 negative = 10,          # for negative sampling\n",
        "                 workers= 2,\n",
        "                 seed = 34)\n",
        "\n",
        "word2vec_model.train(tokenized_reviews, total_examples=len(final_df_2023['comments']), epochs=20)"
      ],
      "metadata": {
        "colab": {
          "base_uri": "https://localhost:8080/"
        },
        "id": "RmjBTyWGQKqj",
        "outputId": "e87ebb1c-fd71-46d8-a865-dd31b397fa8b"
      },
      "execution_count": 23,
      "outputs": [
        {
          "output_type": "stream",
          "name": "stderr",
          "text": [
            "WARNING:gensim.models.word2vec:Effective 'alpha' higher than previous training cycles\n"
          ]
        },
        {
          "output_type": "execute_result",
          "data": {
            "text/plain": [
              "(304969, 492160)"
            ]
          },
          "metadata": {},
          "execution_count": 23
        }
      ]
    },
    {
      "cell_type": "code",
      "source": [
        "word2vec_model.wv.most_similar(positive=\"apartment\")"
      ],
      "metadata": {
        "colab": {
          "base_uri": "https://localhost:8080/"
        },
        "id": "HQaCIXdzQaUb",
        "outputId": "39a7edcd-1431-43b0-9413-c1ee39e7293e"
      },
      "execution_count": 24,
      "outputs": [
        {
          "output_type": "execute_result",
          "data": {
            "text/plain": [
              "[('clean', 0.890788197517395),\n",
              " ('complete', 0.8797799944877625),\n",
              " ('appartement', 0.8677659034729004),\n",
              " ('neat', 0.8572644591331482),\n",
              " ('accommodation', 0.8452299237251282),\n",
              " ('tidy', 0.8424186110496521),\n",
              " ('sparkling', 0.8418865203857422),\n",
              " ('alexandra', 0.8416557908058167),\n",
              " ('cozy', 0.8408034443855286),\n",
              " ('simple', 0.8345875144004822)]"
            ]
          },
          "metadata": {},
          "execution_count": 24
        }
      ]
    },
    {
      "cell_type": "code",
      "source": [
        "# Function to average word vectors for a given comment\n",
        "def comment_to_vector(comment, model, num_features):\n",
        "    words = comment.split()\n",
        "    feature_vec = np.zeros((num_features,), dtype=\"float32\")\n",
        "    n_words = 0\n",
        "    for word in words:\n",
        "        if word in model.wv:\n",
        "            n_words += 1\n",
        "            feature_vec = np.add(feature_vec, model.wv[word])\n",
        "    if n_words > 0:\n",
        "        feature_vec = np.divide(feature_vec, n_words)\n",
        "    return feature_vec\n",
        "\n",
        "# Transform each comment to a vector\n",
        "comment_vectors = np.array([comment_to_vector(comment, word2vec_model, features) for comment in final_df_2023['comments']])"
      ],
      "metadata": {
        "id": "DXCKglA9VgmW"
      },
      "execution_count": 25,
      "outputs": []
    },
    {
      "cell_type": "markdown",
      "source": [
        "#### **Dataset Split**"
      ],
      "metadata": {
        "id": "FUrLSVJ9Ps49"
      }
    },
    {
      "cell_type": "markdown",
      "source": [
        "##### **TF-IDF** 🔢"
      ],
      "metadata": {
        "id": "717zTw26Tcau"
      }
    },
    {
      "cell_type": "code",
      "source": [
        "from sklearn.model_selection import train_test_split\n",
        "# Split the data into training and test sets\n",
        "X_train_tfidf, X_test_tfidf, y_train_tfidf, y_test_tfidf = train_test_split(\n",
        "    tfidf_vectors,\n",
        "    final_df_2023['sentiment'],\n",
        "    test_size=0.2,\n",
        "    random_state=42\n",
        ")\n",
        "\n",
        "# Print the shapes of the resulting datasets\n",
        "print(\"Training set shape:\", X_train_tfidf.shape)\n",
        "print(\"Test set shape:\", X_test_tfidf.shape)\n",
        "print(\"Training labels shape:\", y_train_tfidf.shape)\n",
        "print(\"Test labels shape:\", y_test_tfidf.shape)"
      ],
      "metadata": {
        "colab": {
          "base_uri": "https://localhost:8080/"
        },
        "id": "REKhz925TcMJ",
        "outputId": "c08d94f4-0a54-466d-b036-c505baa4add7"
      },
      "execution_count": 26,
      "outputs": [
        {
          "output_type": "stream",
          "name": "stdout",
          "text": [
            "Training set shape: (800, 25)\n",
            "Test set shape: (200, 25)\n",
            "Training labels shape: (800,)\n",
            "Test labels shape: (200,)\n"
          ]
        }
      ]
    },
    {
      "cell_type": "markdown",
      "source": [
        "##### **Word2Vec** 🔣"
      ],
      "metadata": {
        "id": "fGkeO8t0UFWC"
      }
    },
    {
      "cell_type": "code",
      "source": [
        "# Split the data into training and test sets\n",
        "X_train_w2v, X_test_w2v, y_train_w2v, y_test_w2v = train_test_split(\n",
        "    comment_vectors,\n",
        "    final_df_2023['sentiment'],\n",
        "    test_size=0.2,\n",
        "    random_state=42\n",
        ")\n",
        "\n",
        "# Print the shapes of the resulting datasets\n",
        "print(\"Training set shape:\", X_train_w2v.shape)\n",
        "print(\"Test set shape:\", X_test_w2v.shape)\n",
        "print(\"Training labels shape:\", y_train_w2v.shape)\n",
        "print(\"Test labels shape:\", y_test_w2v.shape)"
      ],
      "metadata": {
        "colab": {
          "base_uri": "https://localhost:8080/"
        },
        "id": "7DfkqpTBUSaU",
        "outputId": "04771f02-b209-40cc-9963-bc768e7edc73"
      },
      "execution_count": 27,
      "outputs": [
        {
          "output_type": "stream",
          "name": "stdout",
          "text": [
            "Training set shape: (800, 25)\n",
            "Test set shape: (200, 25)\n",
            "Training labels shape: (800,)\n",
            "Test labels shape: (200,)\n"
          ]
        }
      ]
    },
    {
      "cell_type": "markdown",
      "source": [
        "#### **Support Vector Machines** ↔️"
      ],
      "metadata": {
        "id": "Gu_KSZkXXZZH"
      }
    },
    {
      "cell_type": "markdown",
      "source": [
        "##### **SVM with TF-IDF**  🔢"
      ],
      "metadata": {
        "id": "Rrt3UBK6XcGr"
      }
    },
    {
      "cell_type": "code",
      "source": [
        "from sklearn.svm import SVC\n",
        "from sklearn.metrics import classification_report, accuracy_score\n",
        "from sklearn.model_selection import cross_val_score\n",
        "\n",
        "# Train the SVM model using 10-fold cross-validation\n",
        "svm_classifier_tfidf = SVC(kernel='linear')\n",
        "cv_scores_tfidf = cross_val_score(svm_classifier_tfidf, X_train_tfidf, y_train_tfidf, cv=10)\n",
        "\n",
        "print(\"10-Fold Cross-Validation Scores (TF-IDF):\", cv_scores_tfidf)\n",
        "print(\"Mean CV Score (TF-IDF):\", np.mean(cv_scores_tfidf))\n",
        "\n",
        "# Train the final model on the training set\n",
        "svm_classifier_tfidf.fit(X_train_tfidf, y_train_tfidf)\n",
        "\n",
        "# Make predictions\n",
        "y_pred_tfidf = svm_classifier_tfidf.predict(X_test_tfidf)\n",
        "\n",
        "# Evaluate the model\n",
        "accuracy_tfidf = accuracy_score(y_test_tfidf, y_pred_tfidf)\n",
        "classification_rep_tfidf = classification_report(y_test_tfidf, y_pred_tfidf)\n",
        "\n",
        "print(\"Accuracy (TF-IDF):\", accuracy_tfidf)\n",
        "print(\"Classification Report (TF-IDF):\\n\", classification_rep_tfidf)"
      ],
      "metadata": {
        "colab": {
          "base_uri": "https://localhost:8080/"
        },
        "id": "JUZ6_wvlW-us",
        "outputId": "06922107-b51b-4f82-ff12-d534d4c19ccd"
      },
      "execution_count": 28,
      "outputs": [
        {
          "output_type": "stream",
          "name": "stdout",
          "text": [
            "10-Fold Cross-Validation Scores (TF-IDF): [0.8    0.8    0.8    0.8    0.8    0.8    0.8    0.7875 0.7875 0.7875]\n",
            "Mean CV Score (TF-IDF): 0.7962499999999999\n",
            "Accuracy (TF-IDF): 0.72\n",
            "Classification Report (TF-IDF):\n",
            "               precision    recall  f1-score   support\n",
            "\n",
            "    negative       0.00      0.00      0.00        56\n",
            "    positive       0.72      1.00      0.84       144\n",
            "\n",
            "    accuracy                           0.72       200\n",
            "   macro avg       0.36      0.50      0.42       200\n",
            "weighted avg       0.52      0.72      0.60       200\n",
            "\n"
          ]
        },
        {
          "output_type": "stream",
          "name": "stderr",
          "text": [
            "/usr/local/lib/python3.12/dist-packages/sklearn/metrics/_classification.py:1565: UndefinedMetricWarning: Precision is ill-defined and being set to 0.0 in labels with no predicted samples. Use `zero_division` parameter to control this behavior.\n",
            "  _warn_prf(average, modifier, f\"{metric.capitalize()} is\", len(result))\n",
            "/usr/local/lib/python3.12/dist-packages/sklearn/metrics/_classification.py:1565: UndefinedMetricWarning: Precision is ill-defined and being set to 0.0 in labels with no predicted samples. Use `zero_division` parameter to control this behavior.\n",
            "  _warn_prf(average, modifier, f\"{metric.capitalize()} is\", len(result))\n",
            "/usr/local/lib/python3.12/dist-packages/sklearn/metrics/_classification.py:1565: UndefinedMetricWarning: Precision is ill-defined and being set to 0.0 in labels with no predicted samples. Use `zero_division` parameter to control this behavior.\n",
            "  _warn_prf(average, modifier, f\"{metric.capitalize()} is\", len(result))\n"
          ]
        }
      ]
    },
    {
      "cell_type": "markdown",
      "source": [
        "##### **SVM with Word2Vec** 🔣"
      ],
      "metadata": {
        "id": "5pSnYc-CXtp6"
      }
    },
    {
      "cell_type": "code",
      "source": [
        "# Train the SVM model using 10-fold cross-validation\n",
        "svm_classifier_w2v = SVC(kernel='linear')\n",
        "cv_scores_w2v = cross_val_score(svm_classifier_w2v, X_train_w2v, y_train_w2v, cv=10)\n",
        "\n",
        "print(\"10-Fold Cross-Validation Scores (Word2Vec):\", cv_scores_w2v)\n",
        "print(\"Mean CV Score (Word2Vec):\", np.mean(cv_scores_w2v))\n",
        "\n",
        "# Train the final model on the training set\n",
        "svm_classifier_w2v.fit(X_train_w2v, y_train_w2v)\n",
        "\n",
        "# Make predictions\n",
        "y_pred_w2v = svm_classifier_w2v.predict(X_test_w2v)\n",
        "\n",
        "# Evaluate the model\n",
        "accuracy_w2v = accuracy_score(y_test_w2v, y_pred_w2v)\n",
        "classification_rep_w2v = classification_report(y_test_w2v, y_pred_w2v)\n",
        "\n",
        "print(\"Accuracy (Word2Vec):\", accuracy_w2v)\n",
        "print(\"Classification Report (Word2Vec):\\n\", classification_rep_w2v)"
      ],
      "metadata": {
        "colab": {
          "base_uri": "https://localhost:8080/"
        },
        "id": "lD8VlogwX2sw",
        "outputId": "dcbb536b-ef00-4873-f332-5d8e104f7d8c"
      },
      "execution_count": 29,
      "outputs": [
        {
          "output_type": "stream",
          "name": "stdout",
          "text": [
            "10-Fold Cross-Validation Scores (Word2Vec): [0.85   0.7875 0.825  0.8125 0.7875 0.825  0.8375 0.7875 0.825  0.8   ]\n",
            "Mean CV Score (Word2Vec): 0.81375\n",
            "Accuracy (Word2Vec): 0.785\n",
            "Classification Report (Word2Vec):\n",
            "               precision    recall  f1-score   support\n",
            "\n",
            "    negative       0.84      0.29      0.43        56\n",
            "    positive       0.78      0.98      0.87       144\n",
            "\n",
            "    accuracy                           0.79       200\n",
            "   macro avg       0.81      0.63      0.65       200\n",
            "weighted avg       0.80      0.79      0.74       200\n",
            "\n"
          ]
        }
      ]
    },
    {
      "cell_type": "markdown",
      "source": [
        "#### **Random Forests** 🌳"
      ],
      "metadata": {
        "id": "lbddiLjkcXQG"
      }
    },
    {
      "cell_type": "markdown",
      "source": [
        "##### **Random Forests with TF-IDF** 🔢"
      ],
      "metadata": {
        "id": "omedTurYduuV"
      }
    },
    {
      "cell_type": "code",
      "source": [
        "from sklearn.ensemble import RandomForestClassifier\n",
        "\n",
        "# Initialize the Random Forest classifier\n",
        "rf_classifier_tfidf = RandomForestClassifier(n_estimators=100, random_state=42)\n",
        "\n",
        "# Perform 10-fold cross-validation\n",
        "cv_scores_tfidf = cross_val_score(rf_classifier_tfidf, X_train_tfidf, y_train_tfidf, cv=10)\n",
        "\n",
        "print(\"10-Fold Cross-Validation Scores (TF-IDF):\", cv_scores_tfidf)\n",
        "print(\"Mean CV Score (TF-IDF):\", np.mean(cv_scores_tfidf))\n",
        "\n",
        "# Train the final model on the training set\n",
        "rf_classifier_tfidf.fit(X_train_tfidf, y_train_tfidf)\n",
        "\n",
        "# Make predictions\n",
        "y_pred_tfidf = rf_classifier_tfidf.predict(X_test_tfidf)\n",
        "\n",
        "# Evaluate the model\n",
        "accuracy_tfidf = accuracy_score(y_test_tfidf, y_pred_tfidf)\n",
        "classification_rep_tfidf = classification_report(y_test_tfidf, y_pred_tfidf)\n",
        "\n",
        "print(\"Accuracy (TF-IDF):\", accuracy_tfidf)\n",
        "print(\"Classification Report (TF-IDF):\\n\", classification_rep_tfidf)"
      ],
      "metadata": {
        "colab": {
          "base_uri": "https://localhost:8080/"
        },
        "id": "w1C3zfXudOdE",
        "outputId": "286819f4-f34d-4b5d-afb2-71e94541ccb6"
      },
      "execution_count": 30,
      "outputs": [
        {
          "output_type": "stream",
          "name": "stdout",
          "text": [
            "10-Fold Cross-Validation Scores (TF-IDF): [0.775  0.8    0.7875 0.775  0.7375 0.7625 0.7625 0.7875 0.7875 0.7625]\n",
            "Mean CV Score (TF-IDF): 0.7737499999999999\n",
            "Accuracy (TF-IDF): 0.715\n",
            "Classification Report (TF-IDF):\n",
            "               precision    recall  f1-score   support\n",
            "\n",
            "    negative       0.43      0.05      0.10        56\n",
            "    positive       0.73      0.97      0.83       144\n",
            "\n",
            "    accuracy                           0.71       200\n",
            "   macro avg       0.58      0.51      0.46       200\n",
            "weighted avg       0.64      0.71      0.62       200\n",
            "\n"
          ]
        }
      ]
    },
    {
      "cell_type": "markdown",
      "source": [
        "##### **Random Forests with Word2Vec** 🔣"
      ],
      "metadata": {
        "id": "vywm0fVPdx0X"
      }
    },
    {
      "cell_type": "code",
      "source": [
        "# Initialize the Random Forest classifier\n",
        "rf_classifier_w2v = RandomForestClassifier(n_estimators=100, random_state=42)\n",
        "\n",
        "# Perform 10-fold cross-validation\n",
        "cv_scores_w2v = cross_val_score(rf_classifier_w2v, X_train_w2v, y_train_w2v, cv=10)\n",
        "\n",
        "print(\"10-Fold Cross-Validation Scores (Word2Vec):\", cv_scores_w2v)\n",
        "print(\"Mean CV Score (Word2Vec):\", np.mean(cv_scores_w2v))\n",
        "\n",
        "# Train the final model on the training set\n",
        "rf_classifier_w2v.fit(X_train_w2v, y_train_w2v)\n",
        "\n",
        "# Make predictions\n",
        "y_pred_w2v = rf_classifier_w2v.predict(X_test_w2v)\n",
        "\n",
        "# Evaluate the model\n",
        "accuracy_w2v = accuracy_score(y_test_w2v, y_pred_w2v)\n",
        "classification_rep_w2v = classification_report(y_test_w2v, y_pred_w2v)\n",
        "\n",
        "print(\"Accuracy (Word2Vec):\", accuracy_w2v)\n",
        "print(\"Classification Report (Word2Vec):\\n\", classification_rep_w2v)"
      ],
      "metadata": {
        "colab": {
          "base_uri": "https://localhost:8080/"
        },
        "id": "gS7JgnBwdbxo",
        "outputId": "7d269acd-11d5-4f2e-cc29-fbb66906e456"
      },
      "execution_count": 31,
      "outputs": [
        {
          "output_type": "stream",
          "name": "stdout",
          "text": [
            "10-Fold Cross-Validation Scores (Word2Vec): [0.825  0.775  0.875  0.85   0.7875 0.8125 0.8375 0.7625 0.8375 0.8125]\n",
            "Mean CV Score (Word2Vec): 0.8175000000000001\n",
            "Accuracy (Word2Vec): 0.795\n",
            "Classification Report (Word2Vec):\n",
            "               precision    recall  f1-score   support\n",
            "\n",
            "    negative       0.80      0.36      0.49        56\n",
            "    positive       0.79      0.97      0.87       144\n",
            "\n",
            "    accuracy                           0.80       200\n",
            "   macro avg       0.80      0.66      0.68       200\n",
            "weighted avg       0.80      0.80      0.77       200\n",
            "\n"
          ]
        }
      ]
    },
    {
      "cell_type": "markdown",
      "source": [
        "#### **K-Nearest Neighbors** 🏠"
      ],
      "metadata": {
        "id": "xhFu0nxed1pP"
      }
    },
    {
      "cell_type": "markdown",
      "source": [
        "##### **KNN with TF-IDF** 🔢"
      ],
      "metadata": {
        "id": "g1tY76lGd38Q"
      }
    },
    {
      "cell_type": "code",
      "source": [
        "from sklearn.neighbors import KNeighborsClassifier\n",
        "\n",
        "# Initialize the KNN classifier\n",
        "knn_classifier_tfidf = KNeighborsClassifier(n_neighbors=5)  # n_neighbors is the number of neighbors to use\n",
        "\n",
        "# Perform 10-fold cross-validation\n",
        "cv_scores_tfidf = cross_val_score(knn_classifier_tfidf, X_train_tfidf, y_train_tfidf, cv=10)\n",
        "\n",
        "print(\"10-Fold Cross-Validation Scores (TF-IDF):\", cv_scores_tfidf)\n",
        "print(\"Mean CV Score (TF-IDF):\", np.mean(cv_scores_tfidf))\n",
        "\n",
        "# Train the final model on the training set\n",
        "knn_classifier_tfidf.fit(X_train_tfidf, y_train_tfidf)\n",
        "\n",
        "# Make predictions\n",
        "y_pred_tfidf = knn_classifier_tfidf.predict(X_test_tfidf)\n",
        "\n",
        "# Evaluate the model\n",
        "accuracy_tfidf = accuracy_score(y_test_tfidf, y_pred_tfidf)\n",
        "classification_rep_tfidf = classification_report(y_test_tfidf, y_pred_tfidf)\n",
        "\n",
        "print(\"Accuracy (TF-IDF):\", accuracy_tfidf)\n",
        "print(\"Classification Report (TF-IDF):\\n\", classification_rep_tfidf)"
      ],
      "metadata": {
        "colab": {
          "base_uri": "https://localhost:8080/"
        },
        "id": "asmoiCvMd9b7",
        "outputId": "0f3fc8e4-4eac-487e-b633-0ee25e05737e"
      },
      "execution_count": 32,
      "outputs": [
        {
          "output_type": "stream",
          "name": "stdout",
          "text": [
            "10-Fold Cross-Validation Scores (TF-IDF): [0.8    0.7875 0.75   0.7625 0.775  0.7625 0.775  0.725  0.75   0.7375]\n",
            "Mean CV Score (TF-IDF): 0.7625\n",
            "Accuracy (TF-IDF): 0.685\n",
            "Classification Report (TF-IDF):\n",
            "               precision    recall  f1-score   support\n",
            "\n",
            "    negative       0.27      0.07      0.11        56\n",
            "    positive       0.72      0.92      0.81       144\n",
            "\n",
            "    accuracy                           0.69       200\n",
            "   macro avg       0.49      0.50      0.46       200\n",
            "weighted avg       0.59      0.69      0.61       200\n",
            "\n"
          ]
        }
      ]
    },
    {
      "cell_type": "markdown",
      "source": [
        "##### **KNN with Word2Vec** 🔣"
      ],
      "metadata": {
        "id": "sU0loHJWeG0z"
      }
    },
    {
      "cell_type": "code",
      "source": [
        "# Initialize the KNN classifier\n",
        "knn_classifier_w2v = KNeighborsClassifier(n_neighbors=5)  # n_neighbors is the number of neighbors to use\n",
        "\n",
        "# Perform 10-fold cross-validation\n",
        "cv_scores_w2v = cross_val_score(knn_classifier_w2v, X_train_w2v, y_train_w2v, cv=10)\n",
        "\n",
        "print(\"10-Fold Cross-Validation Scores (Word2Vec):\", cv_scores_w2v)\n",
        "print(\"Mean CV Score (Word2Vec):\", np.mean(cv_scores_w2v))\n",
        "\n",
        "# Train the final model on the training set\n",
        "knn_classifier_w2v.fit(X_train_w2v, y_train_w2v)\n",
        "\n",
        "# Make predictions\n",
        "y_pred_w2v = knn_classifier_w2v.predict(X_test_w2v)\n",
        "\n",
        "# Evaluate the model\n",
        "accuracy_w2v = accuracy_score(y_test_w2v, y_pred_w2v)\n",
        "classification_rep_w2v = classification_report(y_test_w2v, y_pred_w2v)\n",
        "\n",
        "print(\"Accuracy (Word2Vec):\", accuracy_w2v)\n",
        "print(\"Classification Report (Word2Vec):\\n\", classification_rep_w2v)"
      ],
      "metadata": {
        "colab": {
          "base_uri": "https://localhost:8080/"
        },
        "id": "eJUzoUFseJ_d",
        "outputId": "fb80e64d-8ab5-4f09-a87a-c596fd21488e"
      },
      "execution_count": 33,
      "outputs": [
        {
          "output_type": "stream",
          "name": "stdout",
          "text": [
            "10-Fold Cross-Validation Scores (Word2Vec): [0.8125 0.8    0.825  0.825  0.75   0.775  0.8125 0.8    0.775  0.725 ]\n",
            "Mean CV Score (Word2Vec): 0.79\n",
            "Accuracy (Word2Vec): 0.755\n",
            "Classification Report (Word2Vec):\n",
            "               precision    recall  f1-score   support\n",
            "\n",
            "    negative       0.60      0.38      0.46        56\n",
            "    positive       0.79      0.90      0.84       144\n",
            "\n",
            "    accuracy                           0.76       200\n",
            "   macro avg       0.69      0.64      0.65       200\n",
            "weighted avg       0.74      0.76      0.74       200\n",
            "\n"
          ]
        }
      ]
    },
    {
      "cell_type": "markdown",
      "source": [
        "\n",
        "### **Question 3**"
      ],
      "metadata": {
        "id": "4y6s2vmC_KOC"
      }
    },
    {
      "cell_type": "code",
      "source": [
        "!pip install gensim"
      ],
      "metadata": {
        "colab": {
          "base_uri": "https://localhost:8080/"
        },
        "id": "E-XWZ-nuiY62",
        "outputId": "34f24dfe-676a-4639-d957-e4bf661f52ff"
      },
      "execution_count": 34,
      "outputs": [
        {
          "output_type": "stream",
          "name": "stdout",
          "text": [
            "Requirement already satisfied: gensim in /usr/local/lib/python3.12/dist-packages (4.3.3)\n",
            "Requirement already satisfied: numpy<2.0,>=1.18.5 in /usr/local/lib/python3.12/dist-packages (from gensim) (1.26.4)\n",
            "Requirement already satisfied: scipy<1.14.0,>=1.7.0 in /usr/local/lib/python3.12/dist-packages (from gensim) (1.13.1)\n",
            "Requirement already satisfied: smart-open>=1.8.1 in /usr/local/lib/python3.12/dist-packages (from gensim) (7.3.0.post1)\n",
            "Requirement already satisfied: wrapt in /usr/local/lib/python3.12/dist-packages (from smart-open>=1.8.1->gensim) (1.17.3)\n"
          ]
        }
      ]
    },
    {
      "cell_type": "code",
      "source": [
        "from collections import Counter\n",
        "from sklearn.metrics.pairwise import cosine_similarity\n",
        "\n",
        "# Identify the top 300 most frequently used words\n",
        "all_words = [word for review in tokenized_reviews for word in review]\n",
        "word_freq = Counter(all_words)\n",
        "top_300_words = [word for word, freq in word_freq.most_common(300)]\n",
        "\n",
        "# Print the top 300 most used words\n",
        "top_300_words_df = pd.DataFrame(top_300_words, columns=['Word'])\n",
        "print(\"Top 300 most frequently used words:\")\n",
        "print(top_300_words_df)\n",
        "\n",
        "csv_file_path = '/content/drive/My Drive/Datasets/top_300_words.csv'\n",
        "top_300_words_df.to_csv(csv_file_path, index=False)"
      ],
      "metadata": {
        "colab": {
          "base_uri": "https://localhost:8080/"
        },
        "id": "E2Ov2eouvOj3",
        "outputId": "4c4a7ee8-e96e-4f1b-b2e3-153e54097c14"
      },
      "execution_count": 35,
      "outputs": [
        {
          "output_type": "stream",
          "name": "stdout",
          "text": [
            "Top 300 most frequently used words:\n",
            "              Word\n",
            "0            great\n",
            "1        apartment\n",
            "2         location\n",
            "3            place\n",
            "4             stay\n",
            "..             ...\n",
            "295              4\n",
            "296  communicative\n",
            "297          spent\n",
            "298           hope\n",
            "299          clear\n",
            "\n",
            "[300 rows x 1 columns]\n"
          ]
        }
      ]
    },
    {
      "cell_type": "code",
      "source": [
        "# Load the top 300 words from CSV\n",
        "csv_file_path = '/content/drive/My Drive/Datasets/top_300_words.csv'\n",
        "loaded_top_300_words_df = pd.read_csv(csv_file_path)\n",
        "loaded_top_300_words = loaded_top_300_words_df['Word'].tolist()\n",
        "\n",
        "# Get the word vectors for the top 300 words\n",
        "word_vectors = np.array([word2vec_model.wv[word] for word in loaded_top_300_words if word in word2vec_model.wv])\n",
        "\n",
        "# Compute the cosine similarity matrix\n",
        "similarity_matrix = cosine_similarity(word_vectors)\n",
        "\n",
        "similarity_df = pd.DataFrame(similarity_matrix, index=loaded_top_300_words, columns=loaded_top_300_words)\n",
        "\n",
        "similarity_df.head()"
      ],
      "metadata": {
        "colab": {
          "base_uri": "https://localhost:8080/",
          "height": 253
        },
        "id": "Sl93B4ZqRpjl",
        "outputId": "a60ff1b2-8205-4643-ce25-9995e6244714"
      },
      "execution_count": 36,
      "outputs": [
        {
          "output_type": "execute_result",
          "data": {
            "text/plain": [
              "              great  apartment  location     place      stay    athens  \\\n",
              "great      1.000000   0.763177  0.651822  0.615423  0.590529  0.651446   \n",
              "apartment  0.763177   1.000000  0.804934  0.783674  0.648578  0.545299   \n",
              "location   0.651822   0.804934  1.000000  0.828632  0.674782  0.634847   \n",
              "place      0.615423   0.783674  0.828632  1.000000  0.728803  0.672956   \n",
              "stay       0.590529   0.648578  0.674782  0.728803  1.000000  0.720725   \n",
              "\n",
              "               host     clean  everything        us  ...  appartment  \\\n",
              "great      0.664123  0.736184    0.624898  0.532105  ...    0.664102   \n",
              "apartment  0.692037  0.890788    0.715400  0.482796  ...    0.763561   \n",
              "location   0.695465  0.684071    0.684792  0.438004  ...    0.689513   \n",
              "place      0.738143  0.680826    0.687710  0.493494  ...    0.744936   \n",
              "stay       0.593808  0.557624    0.668650  0.484747  ...    0.629558   \n",
              "\n",
              "             though        br     front    future         4  communicative  \\\n",
              "great      0.377925  0.438839  0.388604  0.508163  0.414568       0.554952   \n",
              "apartment  0.502728  0.520451  0.433037  0.447871  0.456254       0.484298   \n",
              "location   0.245871  0.297270  0.295394  0.541963  0.425179       0.456785   \n",
              "place      0.402978  0.296026  0.410656  0.678474  0.476071       0.543250   \n",
              "stay       0.365984  0.418236  0.281979  0.842597  0.390070       0.595417   \n",
              "\n",
              "              spent      hope     clear  \n",
              "great      0.403075  0.415221  0.627673  \n",
              "apartment  0.495064  0.326299  0.486366  \n",
              "location   0.394540  0.405722  0.316166  \n",
              "place      0.541325  0.636278  0.371085  \n",
              "stay       0.530394  0.750629  0.475880  \n",
              "\n",
              "[5 rows x 300 columns]"
            ],
            "text/html": [
              "\n",
              "  <div id=\"df-b69163fe-a615-4e55-a9d1-c272eab9cc97\" class=\"colab-df-container\">\n",
              "    <div>\n",
              "<style scoped>\n",
              "    .dataframe tbody tr th:only-of-type {\n",
              "        vertical-align: middle;\n",
              "    }\n",
              "\n",
              "    .dataframe tbody tr th {\n",
              "        vertical-align: top;\n",
              "    }\n",
              "\n",
              "    .dataframe thead th {\n",
              "        text-align: right;\n",
              "    }\n",
              "</style>\n",
              "<table border=\"1\" class=\"dataframe\">\n",
              "  <thead>\n",
              "    <tr style=\"text-align: right;\">\n",
              "      <th></th>\n",
              "      <th>great</th>\n",
              "      <th>apartment</th>\n",
              "      <th>location</th>\n",
              "      <th>place</th>\n",
              "      <th>stay</th>\n",
              "      <th>athens</th>\n",
              "      <th>host</th>\n",
              "      <th>clean</th>\n",
              "      <th>everything</th>\n",
              "      <th>us</th>\n",
              "      <th>...</th>\n",
              "      <th>appartment</th>\n",
              "      <th>though</th>\n",
              "      <th>br</th>\n",
              "      <th>front</th>\n",
              "      <th>future</th>\n",
              "      <th>4</th>\n",
              "      <th>communicative</th>\n",
              "      <th>spent</th>\n",
              "      <th>hope</th>\n",
              "      <th>clear</th>\n",
              "    </tr>\n",
              "  </thead>\n",
              "  <tbody>\n",
              "    <tr>\n",
              "      <th>great</th>\n",
              "      <td>1.000000</td>\n",
              "      <td>0.763177</td>\n",
              "      <td>0.651822</td>\n",
              "      <td>0.615423</td>\n",
              "      <td>0.590529</td>\n",
              "      <td>0.651446</td>\n",
              "      <td>0.664123</td>\n",
              "      <td>0.736184</td>\n",
              "      <td>0.624898</td>\n",
              "      <td>0.532105</td>\n",
              "      <td>...</td>\n",
              "      <td>0.664102</td>\n",
              "      <td>0.377925</td>\n",
              "      <td>0.438839</td>\n",
              "      <td>0.388604</td>\n",
              "      <td>0.508163</td>\n",
              "      <td>0.414568</td>\n",
              "      <td>0.554952</td>\n",
              "      <td>0.403075</td>\n",
              "      <td>0.415221</td>\n",
              "      <td>0.627673</td>\n",
              "    </tr>\n",
              "    <tr>\n",
              "      <th>apartment</th>\n",
              "      <td>0.763177</td>\n",
              "      <td>1.000000</td>\n",
              "      <td>0.804934</td>\n",
              "      <td>0.783674</td>\n",
              "      <td>0.648578</td>\n",
              "      <td>0.545299</td>\n",
              "      <td>0.692037</td>\n",
              "      <td>0.890788</td>\n",
              "      <td>0.715400</td>\n",
              "      <td>0.482796</td>\n",
              "      <td>...</td>\n",
              "      <td>0.763561</td>\n",
              "      <td>0.502728</td>\n",
              "      <td>0.520451</td>\n",
              "      <td>0.433037</td>\n",
              "      <td>0.447871</td>\n",
              "      <td>0.456254</td>\n",
              "      <td>0.484298</td>\n",
              "      <td>0.495064</td>\n",
              "      <td>0.326299</td>\n",
              "      <td>0.486366</td>\n",
              "    </tr>\n",
              "    <tr>\n",
              "      <th>location</th>\n",
              "      <td>0.651822</td>\n",
              "      <td>0.804934</td>\n",
              "      <td>1.000000</td>\n",
              "      <td>0.828632</td>\n",
              "      <td>0.674782</td>\n",
              "      <td>0.634847</td>\n",
              "      <td>0.695465</td>\n",
              "      <td>0.684071</td>\n",
              "      <td>0.684792</td>\n",
              "      <td>0.438004</td>\n",
              "      <td>...</td>\n",
              "      <td>0.689513</td>\n",
              "      <td>0.245871</td>\n",
              "      <td>0.297270</td>\n",
              "      <td>0.295394</td>\n",
              "      <td>0.541963</td>\n",
              "      <td>0.425179</td>\n",
              "      <td>0.456785</td>\n",
              "      <td>0.394540</td>\n",
              "      <td>0.405722</td>\n",
              "      <td>0.316166</td>\n",
              "    </tr>\n",
              "    <tr>\n",
              "      <th>place</th>\n",
              "      <td>0.615423</td>\n",
              "      <td>0.783674</td>\n",
              "      <td>0.828632</td>\n",
              "      <td>1.000000</td>\n",
              "      <td>0.728803</td>\n",
              "      <td>0.672956</td>\n",
              "      <td>0.738143</td>\n",
              "      <td>0.680826</td>\n",
              "      <td>0.687710</td>\n",
              "      <td>0.493494</td>\n",
              "      <td>...</td>\n",
              "      <td>0.744936</td>\n",
              "      <td>0.402978</td>\n",
              "      <td>0.296026</td>\n",
              "      <td>0.410656</td>\n",
              "      <td>0.678474</td>\n",
              "      <td>0.476071</td>\n",
              "      <td>0.543250</td>\n",
              "      <td>0.541325</td>\n",
              "      <td>0.636278</td>\n",
              "      <td>0.371085</td>\n",
              "    </tr>\n",
              "    <tr>\n",
              "      <th>stay</th>\n",
              "      <td>0.590529</td>\n",
              "      <td>0.648578</td>\n",
              "      <td>0.674782</td>\n",
              "      <td>0.728803</td>\n",
              "      <td>1.000000</td>\n",
              "      <td>0.720725</td>\n",
              "      <td>0.593808</td>\n",
              "      <td>0.557624</td>\n",
              "      <td>0.668650</td>\n",
              "      <td>0.484747</td>\n",
              "      <td>...</td>\n",
              "      <td>0.629558</td>\n",
              "      <td>0.365984</td>\n",
              "      <td>0.418236</td>\n",
              "      <td>0.281979</td>\n",
              "      <td>0.842597</td>\n",
              "      <td>0.390070</td>\n",
              "      <td>0.595417</td>\n",
              "      <td>0.530394</td>\n",
              "      <td>0.750629</td>\n",
              "      <td>0.475880</td>\n",
              "    </tr>\n",
              "  </tbody>\n",
              "</table>\n",
              "<p>5 rows × 300 columns</p>\n",
              "</div>\n",
              "    <div class=\"colab-df-buttons\">\n",
              "\n",
              "  <div class=\"colab-df-container\">\n",
              "    <button class=\"colab-df-convert\" onclick=\"convertToInteractive('df-b69163fe-a615-4e55-a9d1-c272eab9cc97')\"\n",
              "            title=\"Convert this dataframe to an interactive table.\"\n",
              "            style=\"display:none;\">\n",
              "\n",
              "  <svg xmlns=\"http://www.w3.org/2000/svg\" height=\"24px\" viewBox=\"0 -960 960 960\">\n",
              "    <path d=\"M120-120v-720h720v720H120Zm60-500h600v-160H180v160Zm220 220h160v-160H400v160Zm0 220h160v-160H400v160ZM180-400h160v-160H180v160Zm440 0h160v-160H620v160ZM180-180h160v-160H180v160Zm440 0h160v-160H620v160Z\"/>\n",
              "  </svg>\n",
              "    </button>\n",
              "\n",
              "  <style>\n",
              "    .colab-df-container {\n",
              "      display:flex;\n",
              "      gap: 12px;\n",
              "    }\n",
              "\n",
              "    .colab-df-convert {\n",
              "      background-color: #E8F0FE;\n",
              "      border: none;\n",
              "      border-radius: 50%;\n",
              "      cursor: pointer;\n",
              "      display: none;\n",
              "      fill: #1967D2;\n",
              "      height: 32px;\n",
              "      padding: 0 0 0 0;\n",
              "      width: 32px;\n",
              "    }\n",
              "\n",
              "    .colab-df-convert:hover {\n",
              "      background-color: #E2EBFA;\n",
              "      box-shadow: 0px 1px 2px rgba(60, 64, 67, 0.3), 0px 1px 3px 1px rgba(60, 64, 67, 0.15);\n",
              "      fill: #174EA6;\n",
              "    }\n",
              "\n",
              "    .colab-df-buttons div {\n",
              "      margin-bottom: 4px;\n",
              "    }\n",
              "\n",
              "    [theme=dark] .colab-df-convert {\n",
              "      background-color: #3B4455;\n",
              "      fill: #D2E3FC;\n",
              "    }\n",
              "\n",
              "    [theme=dark] .colab-df-convert:hover {\n",
              "      background-color: #434B5C;\n",
              "      box-shadow: 0px 1px 3px 1px rgba(0, 0, 0, 0.15);\n",
              "      filter: drop-shadow(0px 1px 2px rgba(0, 0, 0, 0.3));\n",
              "      fill: #FFFFFF;\n",
              "    }\n",
              "  </style>\n",
              "\n",
              "    <script>\n",
              "      const buttonEl =\n",
              "        document.querySelector('#df-b69163fe-a615-4e55-a9d1-c272eab9cc97 button.colab-df-convert');\n",
              "      buttonEl.style.display =\n",
              "        google.colab.kernel.accessAllowed ? 'block' : 'none';\n",
              "\n",
              "      async function convertToInteractive(key) {\n",
              "        const element = document.querySelector('#df-b69163fe-a615-4e55-a9d1-c272eab9cc97');\n",
              "        const dataTable =\n",
              "          await google.colab.kernel.invokeFunction('convertToInteractive',\n",
              "                                                    [key], {});\n",
              "        if (!dataTable) return;\n",
              "\n",
              "        const docLinkHtml = 'Like what you see? Visit the ' +\n",
              "          '<a target=\"_blank\" href=https://colab.research.google.com/notebooks/data_table.ipynb>data table notebook</a>'\n",
              "          + ' to learn more about interactive tables.';\n",
              "        element.innerHTML = '';\n",
              "        dataTable['output_type'] = 'display_data';\n",
              "        await google.colab.output.renderOutput(dataTable, element);\n",
              "        const docLink = document.createElement('div');\n",
              "        docLink.innerHTML = docLinkHtml;\n",
              "        element.appendChild(docLink);\n",
              "      }\n",
              "    </script>\n",
              "  </div>\n",
              "\n",
              "\n",
              "    <div id=\"df-38af7413-ca86-4bae-9d2f-d6990f40d179\">\n",
              "      <button class=\"colab-df-quickchart\" onclick=\"quickchart('df-38af7413-ca86-4bae-9d2f-d6990f40d179')\"\n",
              "                title=\"Suggest charts\"\n",
              "                style=\"display:none;\">\n",
              "\n",
              "<svg xmlns=\"http://www.w3.org/2000/svg\" height=\"24px\"viewBox=\"0 0 24 24\"\n",
              "     width=\"24px\">\n",
              "    <g>\n",
              "        <path d=\"M19 3H5c-1.1 0-2 .9-2 2v14c0 1.1.9 2 2 2h14c1.1 0 2-.9 2-2V5c0-1.1-.9-2-2-2zM9 17H7v-7h2v7zm4 0h-2V7h2v10zm4 0h-2v-4h2v4z\"/>\n",
              "    </g>\n",
              "</svg>\n",
              "      </button>\n",
              "\n",
              "<style>\n",
              "  .colab-df-quickchart {\n",
              "      --bg-color: #E8F0FE;\n",
              "      --fill-color: #1967D2;\n",
              "      --hover-bg-color: #E2EBFA;\n",
              "      --hover-fill-color: #174EA6;\n",
              "      --disabled-fill-color: #AAA;\n",
              "      --disabled-bg-color: #DDD;\n",
              "  }\n",
              "\n",
              "  [theme=dark] .colab-df-quickchart {\n",
              "      --bg-color: #3B4455;\n",
              "      --fill-color: #D2E3FC;\n",
              "      --hover-bg-color: #434B5C;\n",
              "      --hover-fill-color: #FFFFFF;\n",
              "      --disabled-bg-color: #3B4455;\n",
              "      --disabled-fill-color: #666;\n",
              "  }\n",
              "\n",
              "  .colab-df-quickchart {\n",
              "    background-color: var(--bg-color);\n",
              "    border: none;\n",
              "    border-radius: 50%;\n",
              "    cursor: pointer;\n",
              "    display: none;\n",
              "    fill: var(--fill-color);\n",
              "    height: 32px;\n",
              "    padding: 0;\n",
              "    width: 32px;\n",
              "  }\n",
              "\n",
              "  .colab-df-quickchart:hover {\n",
              "    background-color: var(--hover-bg-color);\n",
              "    box-shadow: 0 1px 2px rgba(60, 64, 67, 0.3), 0 1px 3px 1px rgba(60, 64, 67, 0.15);\n",
              "    fill: var(--button-hover-fill-color);\n",
              "  }\n",
              "\n",
              "  .colab-df-quickchart-complete:disabled,\n",
              "  .colab-df-quickchart-complete:disabled:hover {\n",
              "    background-color: var(--disabled-bg-color);\n",
              "    fill: var(--disabled-fill-color);\n",
              "    box-shadow: none;\n",
              "  }\n",
              "\n",
              "  .colab-df-spinner {\n",
              "    border: 2px solid var(--fill-color);\n",
              "    border-color: transparent;\n",
              "    border-bottom-color: var(--fill-color);\n",
              "    animation:\n",
              "      spin 1s steps(1) infinite;\n",
              "  }\n",
              "\n",
              "  @keyframes spin {\n",
              "    0% {\n",
              "      border-color: transparent;\n",
              "      border-bottom-color: var(--fill-color);\n",
              "      border-left-color: var(--fill-color);\n",
              "    }\n",
              "    20% {\n",
              "      border-color: transparent;\n",
              "      border-left-color: var(--fill-color);\n",
              "      border-top-color: var(--fill-color);\n",
              "    }\n",
              "    30% {\n",
              "      border-color: transparent;\n",
              "      border-left-color: var(--fill-color);\n",
              "      border-top-color: var(--fill-color);\n",
              "      border-right-color: var(--fill-color);\n",
              "    }\n",
              "    40% {\n",
              "      border-color: transparent;\n",
              "      border-right-color: var(--fill-color);\n",
              "      border-top-color: var(--fill-color);\n",
              "    }\n",
              "    60% {\n",
              "      border-color: transparent;\n",
              "      border-right-color: var(--fill-color);\n",
              "    }\n",
              "    80% {\n",
              "      border-color: transparent;\n",
              "      border-right-color: var(--fill-color);\n",
              "      border-bottom-color: var(--fill-color);\n",
              "    }\n",
              "    90% {\n",
              "      border-color: transparent;\n",
              "      border-bottom-color: var(--fill-color);\n",
              "    }\n",
              "  }\n",
              "</style>\n",
              "\n",
              "      <script>\n",
              "        async function quickchart(key) {\n",
              "          const quickchartButtonEl =\n",
              "            document.querySelector('#' + key + ' button');\n",
              "          quickchartButtonEl.disabled = true;  // To prevent multiple clicks.\n",
              "          quickchartButtonEl.classList.add('colab-df-spinner');\n",
              "          try {\n",
              "            const charts = await google.colab.kernel.invokeFunction(\n",
              "                'suggestCharts', [key], {});\n",
              "          } catch (error) {\n",
              "            console.error('Error during call to suggestCharts:', error);\n",
              "          }\n",
              "          quickchartButtonEl.classList.remove('colab-df-spinner');\n",
              "          quickchartButtonEl.classList.add('colab-df-quickchart-complete');\n",
              "        }\n",
              "        (() => {\n",
              "          let quickchartButtonEl =\n",
              "            document.querySelector('#df-38af7413-ca86-4bae-9d2f-d6990f40d179 button');\n",
              "          quickchartButtonEl.style.display =\n",
              "            google.colab.kernel.accessAllowed ? 'block' : 'none';\n",
              "        })();\n",
              "      </script>\n",
              "    </div>\n",
              "\n",
              "    </div>\n",
              "  </div>\n"
            ],
            "application/vnd.google.colaboratory.intrinsic+json": {
              "type": "dataframe",
              "variable_name": "similarity_df"
            }
          },
          "metadata": {},
          "execution_count": 36
        }
      ]
    },
    {
      "cell_type": "code",
      "source": [
        "from numpy import dot, corrcoef\n",
        "\n",
        "# Function to find the top N most similar words\n",
        "def find_top_n_similar(word, similarity_df, N):\n",
        "    if word not in similarity_df.index:\n",
        "        return None\n",
        "    similar_words = similarity_df[word].sort_values(ascending=False).index[1:N+1].tolist()\n",
        "    return similar_words"
      ],
      "metadata": {
        "id": "YEV7_14KmGiP"
      },
      "execution_count": 37,
      "outputs": []
    },
    {
      "cell_type": "markdown",
      "source": [
        "### **(a) Semantic Neighborhood of Two Words**"
      ],
      "metadata": {
        "id": "AAS95p5erVrP"
      }
    },
    {
      "cell_type": "code",
      "source": [
        "# Function to calculate the semantic neighborhood of two words\n",
        "def semantic_neighborhood(word1, word2, similarity_df, N=10):\n",
        "    neighbors_word1 = find_top_n_similar(word1, similarity_df, N)\n",
        "    neighbors_word2 = find_top_n_similar(word2, similarity_df, N)\n",
        "\n",
        "    if neighbors_word1 is None or neighbors_word2 is None:\n",
        "        return None  # Return None if any word is not in the vocabulary\n",
        "\n",
        "    combined_neighbors = {\n",
        "        'word1': word1,\n",
        "        'neighbors_word1': neighbors_word1,\n",
        "        'word2': word2,\n",
        "        'neighbors_word2': neighbors_word2\n",
        "    }\n",
        "    return combined_neighbors"
      ],
      "metadata": {
        "id": "T9x46CVSrn9t"
      },
      "execution_count": 38,
      "outputs": []
    },
    {
      "cell_type": "markdown",
      "source": [
        "### **(b) Similarity of Two Words**"
      ],
      "metadata": {
        "id": "6wGmz5DAsAFl"
      }
    },
    {
      "cell_type": "markdown",
      "source": [
        "#### **(a) Maximum Similarity of Neighborhoods**\n"
      ],
      "metadata": {
        "id": "N8n0RWwpn_1k"
      }
    },
    {
      "cell_type": "code",
      "source": [
        "# Function to calculate the maximum similarity between neighborhoods of two words\n",
        "def max_similarity_between_neighborhoods(word1, word2, similarity_df, N=10):\n",
        "    neighborhoods = semantic_neighborhood(word1, word2, similarity_df, N)\n",
        "\n",
        "    if neighborhoods is None:\n",
        "        return None  # Return None if any word is not in the vocabulary\n",
        "\n",
        "    max_similarity = 0\n",
        "    for neighbor1 in neighborhoods['neighbors_word1']:\n",
        "        for neighbor2 in neighborhoods['neighbors_word2']:\n",
        "            similarity = similarity_df.loc[neighbor1, neighbor2]\n",
        "            if similarity > max_similarity:\n",
        "                max_similarity = similarity\n",
        "\n",
        "    return max_similarity"
      ],
      "metadata": {
        "id": "f_OJYFGo_epD"
      },
      "execution_count": 39,
      "outputs": []
    },
    {
      "cell_type": "markdown",
      "source": [
        "#### **(b) Correlation of Neighborhood Similarities**\n"
      ],
      "metadata": {
        "id": "sYBSv3BvtDH4"
      }
    },
    {
      "cell_type": "code",
      "source": [
        "# Function to calculate the correlation of neighborhood similarities\n",
        "def neighborhood_similarity_correlation(word1, word2, similarity_df, N=10):\n",
        "    neighborhoods = semantic_neighborhood(word1, word2, similarity_df, N)\n",
        "\n",
        "    if neighborhoods is None:\n",
        "        return None  # Return None if any word is not in the vocabulary\n",
        "\n",
        "    similarities_word1 = []\n",
        "    similarities_word2 = []\n",
        "\n",
        "    # Calculate similarities within each neighborhood\n",
        "    for neighbor1 in neighborhoods['neighbors_word1']:\n",
        "        similarities_word1.append(similarity_df.loc[word1, neighbor1])\n",
        "\n",
        "    for neighbor2 in neighborhoods['neighbors_word2']:\n",
        "        similarities_word2.append(similarity_df.loc[word2, neighbor2])\n",
        "\n",
        "    max_length = max(len(similarities_word1), len(similarities_word2))\n",
        "    similarities_word1 += [0] * (max_length - len(similarities_word1))\n",
        "    similarities_word2 += [0] * (max_length - len(similarities_word2))\n",
        "\n",
        "    if len(similarities_word1) == 0 or len(similarities_word2) == 0:\n",
        "        return None  # Return None if there are no similarities to compare\n",
        "\n",
        "    correlation_matrix = np.corrcoef(similarities_word1, similarities_word2)\n",
        "    correlation = correlation_matrix[0, 1]\n",
        "\n",
        "    return correlation"
      ],
      "metadata": {
        "id": "7uZnEAah_mqo"
      },
      "execution_count": 40,
      "outputs": []
    },
    {
      "cell_type": "markdown",
      "source": [
        "#### **(c) Sum of Squared Neighborhood Similarities**\n"
      ],
      "metadata": {
        "id": "fh1IJTDktMTm"
      }
    },
    {
      "cell_type": "code",
      "source": [
        "# Function to calculate the sum of squared neighborhood similarities\n",
        "def sum_of_squared_neighborhood_similarities(word1, word2, similarity_df, N=10):\n",
        "    neighborhoods = semantic_neighborhood(word1, word2, similarity_df, N)\n",
        "\n",
        "    if neighborhoods is None:\n",
        "        return None  # Return None if any word is not in the vocabulary\n",
        "\n",
        "    sum_of_squares = 0\n",
        "\n",
        "    for neighbor1 in neighborhoods['neighbors_word1']:\n",
        "        for neighbor2 in neighborhoods['neighbors_word2']:\n",
        "            similarity = similarity_df.loc[neighbor1, neighbor2]\n",
        "            sum_of_squares += similarity ** 2\n",
        "\n",
        "    return sum_of_squares"
      ],
      "metadata": {
        "id": "y2eic-mIAd8J"
      },
      "execution_count": 41,
      "outputs": []
    },
    {
      "cell_type": "markdown",
      "source": [
        "**How much does each similarity increase or decrease if we change the parameter N (neighborhood size)?**\n"
      ],
      "metadata": {
        "id": "5iEp3fUBlh1M"
      }
    },
    {
      "cell_type": "code",
      "source": [
        "# Example usage with different values of N\n",
        "word1 = 'stay'\n",
        "word2 = 'place'\n",
        "\n",
        "# Call all functions for different values of N\n",
        "N_values = [5, 10, 15, 20]\n",
        "\n",
        "for N in N_values:\n",
        "    print(f\"Results for N = {N}:\")\n",
        "    max_similarity = max_similarity_between_neighborhoods(word1, word2, similarity_df, N)\n",
        "    print(f\"Maximum similarity between neighborhoods of '{word1}' and '{word2}': {max_similarity}\")\n",
        "\n",
        "    correlation = neighborhood_similarity_correlation(word1, word2, similarity_df, N)\n",
        "    print(f\"Correlation of neighborhood similarities between '{word1}' and '{word2}': {correlation}\")\n",
        "\n",
        "    sum_of_squares = sum_of_squared_neighborhood_similarities(word1, word2, similarity_df, N)\n",
        "    print(f\"Sum of squared neighborhood similarities between '{word1}' and '{word2}': {sum_of_squares}\")\n",
        "    print(\"\\n\")"
      ],
      "metadata": {
        "id": "zp5duyopAhjt",
        "colab": {
          "base_uri": "https://localhost:8080/"
        },
        "outputId": "322ad849-639b-4516-ec4c-aab5f348ee53"
      },
      "execution_count": 42,
      "outputs": [
        {
          "output_type": "stream",
          "name": "stdout",
          "text": [
            "Results for N = 5:\n",
            "Maximum similarity between neighborhoods of 'stay' and 'place': 0.7733097672462463\n",
            "Correlation of neighborhood similarities between 'stay' and 'place': 0.9388080200818943\n",
            "Sum of squared neighborhood similarities between 'stay' and 'place': 8.373325893457134\n",
            "\n",
            "\n",
            "Results for N = 10:\n",
            "Maximum similarity between neighborhoods of 'stay' and 'place': 1.0\n",
            "Correlation of neighborhood similarities between 'stay' and 'place': 0.9780728579781273\n",
            "Sum of squared neighborhood similarities between 'stay' and 'place': 30.42241072414379\n",
            "\n",
            "\n",
            "Results for N = 15:\n",
            "Maximum similarity between neighborhoods of 'stay' and 'place': 1.0000001192092896\n",
            "Correlation of neighborhood similarities between 'stay' and 'place': 0.9856134147451556\n",
            "Sum of squared neighborhood similarities between 'stay' and 'place': 85.52771466414819\n",
            "\n",
            "\n",
            "Results for N = 20:\n",
            "Maximum similarity between neighborhoods of 'stay' and 'place': 1.0000001192092896\n",
            "Correlation of neighborhood similarities between 'stay' and 'place': 0.9737740928473104\n",
            "Sum of squared neighborhood similarities between 'stay' and 'place': 134.72524250789093\n",
            "\n",
            "\n"
          ]
        }
      ]
    },
    {
      "cell_type": "markdown",
      "source": [
        "📝 **Observations:**\n",
        "\n",
        "\n",
        "1.  **Maximum Similarity Between Neighborhoods:**\n",
        "\n",
        "  The maximum similarity between the neighborhoods of 'stay' and 'place' increases as *N* increases, but the rate of increase slows down after *N = 10*. This suggests that with a neighborhood size of 10 or more, the most similar pairs in the neighborhoods of 'stay' and 'place' are fully captured, and further increasing N does not reveal more similar pairs.\n",
        "\n",
        "2.   **Correlation of Neighborhood Similarities:**\n",
        "\n",
        "  The correlation of neighborhood similarities increases as\n",
        "  *N* increases, indicating that the similarity patterns between the neighborhoods of 'stay' and 'place' become more aligned with larger neighborhood sizes. This trend suggests that larger values of *N* capture more comprehensive similarity patterns between the words.\n",
        "\n",
        "3. **Sum of Squared Neighborhood Similarities:**\n",
        "  The sum of squared neighborhood similarities increases significantly with larger values of *N*. This increase suggests that when additional neighbors are considered, they contribute significantly to the overall similarity.\n",
        "\n"
      ],
      "metadata": {
        "id": "Iwh1Gqm6mRDo"
      }
    },
    {
      "cell_type": "markdown",
      "source": [
        "**Example usage with different word pairs**"
      ],
      "metadata": {
        "id": "GRE8ok-Vlfpy"
      }
    },
    {
      "cell_type": "code",
      "source": [
        "word_pairs = [('stay', 'apartment'), ('metro', 'walk'), ('friendly', 'kitchen')]\n",
        "N = 10\n",
        "\n",
        "for word1, word2 in word_pairs:\n",
        "    print(f\"Results for '{word1}' and '{word2} with N = {N}:\")\n",
        "    max_similarity = max_similarity_between_neighborhoods(word1, word2, similarity_df, N)\n",
        "    print(f\"Maximum similarity between neighborhoods of '{word1}' and '{word2}': {max_similarity}\")\n",
        "\n",
        "    correlation = neighborhood_similarity_correlation(word1, word2, similarity_df, N)\n",
        "    print(f\"Correlation of neighborhood similarities between '{word1}' and '{word2}': {correlation}\")\n",
        "\n",
        "    sum_of_squares = sum_of_squared_neighborhood_similarities(word1, word2, similarity_df, N)\n",
        "    print(f\"Sum of squared neighborhood similarities between '{word1}' and '{word2}': {sum_of_squares}\\n\")"
      ],
      "metadata": {
        "colab": {
          "base_uri": "https://localhost:8080/"
        },
        "id": "LhvDH2fhZSB_",
        "outputId": "aeccc1b1-368a-45f8-ee10-c25d84f18bfd"
      },
      "execution_count": 43,
      "outputs": [
        {
          "output_type": "stream",
          "name": "stdout",
          "text": [
            "Results for 'stay' and 'apartment with N = 10:\n",
            "Maximum similarity between neighborhoods of 'stay' and 'apartment': 0.6714086532592773\n",
            "Correlation of neighborhood similarities between 'stay' and 'apartment': 0.9377772067115407\n",
            "Sum of squared neighborhood similarities between 'stay' and 'apartment': 18.2905123594641\n",
            "\n",
            "Results for 'metro' and 'walk with N = 10:\n",
            "Maximum similarity between neighborhoods of 'metro' and 'walk': 1.0000001192092896\n",
            "Correlation of neighborhood similarities between 'metro' and 'walk': 0.866226414384265\n",
            "Sum of squared neighborhood similarities between 'metro' and 'walk': 50.79209321928842\n",
            "\n",
            "Results for 'friendly' and 'kitchen with N = 10:\n",
            "Maximum similarity between neighborhoods of 'friendly' and 'kitchen': 0.7365956902503967\n",
            "Correlation of neighborhood similarities between 'friendly' and 'kitchen': 0.9408031981360842\n",
            "Sum of squared neighborhood similarities between 'friendly' and 'kitchen': 23.467660836450403\n",
            "\n"
          ]
        }
      ]
    }
  ],
  "metadata": {
    "colab": {
      "provenance": [],
      "toc_visible": true
    },
    "kernelspec": {
      "display_name": "Python 3",
      "name": "python3"
    },
    "language_info": {
      "name": "python"
    }
  },
  "nbformat": 4,
  "nbformat_minor": 0
}